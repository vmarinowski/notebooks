{
 "cells": [
  {
   "cell_type": "code",
   "execution_count": 1,
   "id": "e071b747",
   "metadata": {
    "execution": {
     "iopub.execute_input": "2023-08-11T11:12:51.879948Z",
     "iopub.status.busy": "2023-08-11T11:12:51.879025Z",
     "iopub.status.idle": "2023-08-11T11:13:08.428687Z",
     "shell.execute_reply": "2023-08-11T11:13:08.427375Z"
    },
    "papermill": {
     "duration": 16.572603,
     "end_time": "2023-08-11T11:13:08.431375",
     "exception": false,
     "start_time": "2023-08-11T11:12:51.858772",
     "status": "completed"
    },
    "tags": []
   },
   "outputs": [
    {
     "name": "stdout",
     "output_type": "stream",
     "text": [
      "Requirement already satisfied: nltk in /opt/conda/lib/python3.10/site-packages (3.2.4)\r\n",
      "Requirement already satisfied: six in /opt/conda/lib/python3.10/site-packages (from nltk) (1.16.0)\r\n"
     ]
    },
    {
     "name": "stderr",
     "output_type": "stream",
     "text": [
      "/opt/conda/lib/python3.10/site-packages/scipy/__init__.py:146: UserWarning: A NumPy version >=1.16.5 and <1.23.0 is required for this version of SciPy (detected version 1.23.5\n",
      "  warnings.warn(f\"A NumPy version >={np_minversion} and <{np_maxversion}\"\n"
     ]
    },
    {
     "name": "stdout",
     "output_type": "stream",
     "text": [
      "[nltk_data] Downloading package punkt to /usr/share/nltk_data...\n",
      "[nltk_data]   Package punkt is already up-to-date!\n",
      "[nltk_data] Downloading package wordnet to /usr/share/nltk_data...\n",
      "[nltk_data]   Package wordnet is already up-to-date!\n",
      "[nltk_data] Downloading package stopwords to /usr/share/nltk_data...\n",
      "[nltk_data]   Package stopwords is already up-to-date!\n",
      "[nltk_data] Downloading package averaged_perceptron_tagger to\n",
      "[nltk_data]     /usr/share/nltk_data...\n",
      "[nltk_data]   Package averaged_perceptron_tagger is already up-to-\n",
      "[nltk_data]       date!\n",
      "Archive:  /usr/share/nltk_data/corpora/wordnet.zip\r\n",
      "   creating: /usr/share/nltk_data/corpora/wordnet/\r\n",
      "  inflating: /usr/share/nltk_data/corpora/wordnet/lexnames  \r\n",
      "  inflating: /usr/share/nltk_data/corpora/wordnet/data.verb  \r\n",
      "  inflating: /usr/share/nltk_data/corpora/wordnet/index.adv  \r\n",
      "  inflating: /usr/share/nltk_data/corpora/wordnet/adv.exc  \r\n",
      "  inflating: /usr/share/nltk_data/corpora/wordnet/index.verb  \r\n",
      "  inflating: /usr/share/nltk_data/corpora/wordnet/cntlist.rev  \r\n",
      "  inflating: /usr/share/nltk_data/corpora/wordnet/data.adj  \r\n",
      "  inflating: /usr/share/nltk_data/corpora/wordnet/index.adj  \r\n",
      "  inflating: /usr/share/nltk_data/corpora/wordnet/LICENSE  \r\n",
      "  inflating: /usr/share/nltk_data/corpora/wordnet/citation.bib  \r\n",
      "  inflating: /usr/share/nltk_data/corpora/wordnet/noun.exc  \r\n",
      "  inflating: /usr/share/nltk_data/corpora/wordnet/verb.exc  \r\n",
      "  inflating: /usr/share/nltk_data/corpora/wordnet/README  \r\n",
      "  inflating: /usr/share/nltk_data/corpora/wordnet/index.sense  \r\n",
      "  inflating: /usr/share/nltk_data/corpora/wordnet/data.noun  \r\n",
      "  inflating: /usr/share/nltk_data/corpora/wordnet/data.adv  \r\n",
      "  inflating: /usr/share/nltk_data/corpora/wordnet/index.noun  \r\n",
      "  inflating: /usr/share/nltk_data/corpora/wordnet/adj.exc  \r\n"
     ]
    }
   ],
   "source": [
    "!pip install nltk\n",
    "import nltk\n",
    "from nltk import word_tokenize\n",
    "from nltk import WordNetLemmatizer\n",
    "from nltk.corpus import stopwords, wordnet\n",
    "nltk.download('punkt')\n",
    "nltk.download('wordnet')\n",
    "nltk.download('stopwords')\n",
    "nltk.download('averaged_perceptron_tagger')\n",
    "!unzip /usr/share/nltk_data/corpora/wordnet.zip -d /usr/share/nltk_data/corpora/\n",
    "import pandas as pd\n",
    "import numpy as np\n",
    "import matplotlib.pyplot as plt\n",
    "import seaborn as sns\n",
    "from sklearn.model_selection import train_test_split, cross_val_score,cross_val_predict\n",
    "from sklearn.feature_extraction.text import CountVectorizer\n",
    "from sklearn.naive_bayes import MultinomialNB, GaussianNB\n",
    "from sklearn.ensemble import VotingClassifier, GradientBoostingClassifier\n",
    "from sklearn.metrics import roc_curve, RocCurveDisplay, accuracy_score, roc_auc_score, confusion_matrix\n",
    "from sklearn.preprocessing import LabelEncoder, MinMaxScaler"
   ]
  },
  {
   "cell_type": "markdown",
   "id": "fb026370",
   "metadata": {
    "papermill": {
     "duration": 0.01389,
     "end_time": "2023-08-11T11:13:08.461592",
     "exception": false,
     "start_time": "2023-08-11T11:13:08.447702",
     "status": "completed"
    },
    "tags": []
   },
   "source": [
    "# How was good their flight?"
   ]
  },
  {
   "cell_type": "markdown",
   "id": "3d9afb83",
   "metadata": {
    "papermill": {
     "duration": 0.013756,
     "end_time": "2023-08-11T11:13:08.490572",
     "exception": false,
     "start_time": "2023-08-11T11:13:08.476816",
     "status": "completed"
    },
    "tags": []
   },
   "source": [
    "**Hello, and welcome to my notebook! We are so close to hired by some kind of company called, Anor Londo as a Data Scientist who have to do very interesting task. Our job is to build a model which can detect bad reviews from millions of reviews(because Anor Londo is like the biggest company in the world) and delete them immediately(I know, it's terrible, deleting bad reviews. But hey! They're ruling the world, who can question them?). Right now me and some other people(like a hundred) trying to build the same model in order to successfully detect and delete the bad reviews. Only one us can hired by Anor Londo.**"
   ]
  },
  {
   "cell_type": "markdown",
   "id": "035d524e",
   "metadata": {
    "papermill": {
     "duration": 0.015092,
     "end_time": "2023-08-11T11:13:08.519686",
     "exception": false,
     "start_time": "2023-08-11T11:13:08.504594",
     "status": "completed"
    },
    "tags": []
   },
   "source": [
    "Note: This notebook is created with the purpose  of 'learning with entertaining.' I'm a learner too and I just want to show you what I've learned so far in my ML journey. Please keep reading, I'm sure that you'll also learn something from this notebook."
   ]
  },
  {
   "cell_type": "markdown",
   "id": "c2e27c9a",
   "metadata": {
    "papermill": {
     "duration": 0.013773,
     "end_time": "2023-08-11T11:13:08.548357",
     "exception": false,
     "start_time": "2023-08-11T11:13:08.534584",
     "status": "completed"
    },
    "tags": []
   },
   "source": [
    "# Greeting the Data!!"
   ]
  },
  {
   "cell_type": "markdown",
   "id": "547dc130",
   "metadata": {
    "papermill": {
     "duration": 0.013809,
     "end_time": "2023-08-11T11:13:08.576736",
     "exception": false,
     "start_time": "2023-08-11T11:13:08.562927",
     "status": "completed"
    },
    "tags": []
   },
   "source": [
    "Before building the model, we have to meet the data that given us."
   ]
  },
  {
   "cell_type": "code",
   "execution_count": 2,
   "id": "4ed5ce47",
   "metadata": {
    "execution": {
     "iopub.execute_input": "2023-08-11T11:13:08.609651Z",
     "iopub.status.busy": "2023-08-11T11:13:08.609259Z",
     "iopub.status.idle": "2023-08-11T11:13:09.241513Z",
     "shell.execute_reply": "2023-08-11T11:13:09.240339Z"
    },
    "papermill": {
     "duration": 0.652611,
     "end_time": "2023-08-11T11:13:09.244535",
     "exception": false,
     "start_time": "2023-08-11T11:13:08.591924",
     "status": "completed"
    },
    "tags": []
   },
   "outputs": [
    {
     "data": {
      "text/html": [
       "<div>\n",
       "<style scoped>\n",
       "    .dataframe tbody tr th:only-of-type {\n",
       "        vertical-align: middle;\n",
       "    }\n",
       "\n",
       "    .dataframe tbody tr th {\n",
       "        vertical-align: top;\n",
       "    }\n",
       "\n",
       "    .dataframe thead th {\n",
       "        text-align: right;\n",
       "    }\n",
       "</style>\n",
       "<table border=\"1\" class=\"dataframe\">\n",
       "  <thead>\n",
       "    <tr style=\"text-align: right;\">\n",
       "      <th></th>\n",
       "      <th>Unnamed: 0</th>\n",
       "      <th>Airline Name</th>\n",
       "      <th>Overall_Rating</th>\n",
       "      <th>Review_Title</th>\n",
       "      <th>Review Date</th>\n",
       "      <th>Verified</th>\n",
       "      <th>Review</th>\n",
       "      <th>Aircraft</th>\n",
       "      <th>Type Of Traveller</th>\n",
       "      <th>Seat Type</th>\n",
       "      <th>Route</th>\n",
       "      <th>Date Flown</th>\n",
       "      <th>Seat Comfort</th>\n",
       "      <th>Cabin Staff Service</th>\n",
       "      <th>Food &amp; Beverages</th>\n",
       "      <th>Ground Service</th>\n",
       "      <th>Inflight Entertainment</th>\n",
       "      <th>Wifi &amp; Connectivity</th>\n",
       "      <th>Value For Money</th>\n",
       "      <th>Recommended</th>\n",
       "    </tr>\n",
       "  </thead>\n",
       "  <tbody>\n",
       "    <tr>\n",
       "      <th>0</th>\n",
       "      <td>0</td>\n",
       "      <td>AB Aviation</td>\n",
       "      <td>9</td>\n",
       "      <td>\"pretty decent airline\"</td>\n",
       "      <td>11th November 2019</td>\n",
       "      <td>True</td>\n",
       "      <td>Moroni to Moheli. Turned out to be a pretty ...</td>\n",
       "      <td>NaN</td>\n",
       "      <td>Solo Leisure</td>\n",
       "      <td>Economy Class</td>\n",
       "      <td>Moroni to Moheli</td>\n",
       "      <td>November 2019</td>\n",
       "      <td>4.0</td>\n",
       "      <td>5.0</td>\n",
       "      <td>4.0</td>\n",
       "      <td>4.0</td>\n",
       "      <td>NaN</td>\n",
       "      <td>NaN</td>\n",
       "      <td>3.0</td>\n",
       "      <td>yes</td>\n",
       "    </tr>\n",
       "    <tr>\n",
       "      <th>1</th>\n",
       "      <td>1</td>\n",
       "      <td>AB Aviation</td>\n",
       "      <td>1</td>\n",
       "      <td>\"Not a good airline\"</td>\n",
       "      <td>25th June 2019</td>\n",
       "      <td>True</td>\n",
       "      <td>Moroni to Anjouan. It is a very small airline...</td>\n",
       "      <td>E120</td>\n",
       "      <td>Solo Leisure</td>\n",
       "      <td>Economy Class</td>\n",
       "      <td>Moroni to Anjouan</td>\n",
       "      <td>June 2019</td>\n",
       "      <td>2.0</td>\n",
       "      <td>2.0</td>\n",
       "      <td>1.0</td>\n",
       "      <td>1.0</td>\n",
       "      <td>NaN</td>\n",
       "      <td>NaN</td>\n",
       "      <td>2.0</td>\n",
       "      <td>no</td>\n",
       "    </tr>\n",
       "    <tr>\n",
       "      <th>2</th>\n",
       "      <td>2</td>\n",
       "      <td>AB Aviation</td>\n",
       "      <td>1</td>\n",
       "      <td>\"flight was fortunately short\"</td>\n",
       "      <td>25th June 2019</td>\n",
       "      <td>True</td>\n",
       "      <td>Anjouan to Dzaoudzi. A very small airline an...</td>\n",
       "      <td>Embraer E120</td>\n",
       "      <td>Solo Leisure</td>\n",
       "      <td>Economy Class</td>\n",
       "      <td>Anjouan to Dzaoudzi</td>\n",
       "      <td>June 2019</td>\n",
       "      <td>2.0</td>\n",
       "      <td>1.0</td>\n",
       "      <td>1.0</td>\n",
       "      <td>1.0</td>\n",
       "      <td>NaN</td>\n",
       "      <td>NaN</td>\n",
       "      <td>2.0</td>\n",
       "      <td>no</td>\n",
       "    </tr>\n",
       "    <tr>\n",
       "      <th>3</th>\n",
       "      <td>3</td>\n",
       "      <td>Adria Airways</td>\n",
       "      <td>1</td>\n",
       "      <td>\"I will never fly again with Adria\"</td>\n",
       "      <td>28th September 2019</td>\n",
       "      <td>False</td>\n",
       "      <td>Please do a favor yourself and do not fly wi...</td>\n",
       "      <td>NaN</td>\n",
       "      <td>Solo Leisure</td>\n",
       "      <td>Economy Class</td>\n",
       "      <td>Frankfurt to Pristina</td>\n",
       "      <td>September 2019</td>\n",
       "      <td>1.0</td>\n",
       "      <td>1.0</td>\n",
       "      <td>NaN</td>\n",
       "      <td>1.0</td>\n",
       "      <td>NaN</td>\n",
       "      <td>NaN</td>\n",
       "      <td>1.0</td>\n",
       "      <td>no</td>\n",
       "    </tr>\n",
       "    <tr>\n",
       "      <th>4</th>\n",
       "      <td>4</td>\n",
       "      <td>Adria Airways</td>\n",
       "      <td>1</td>\n",
       "      <td>\"it ruined our last days of holidays\"</td>\n",
       "      <td>24th September 2019</td>\n",
       "      <td>True</td>\n",
       "      <td>Do not book a flight with this airline! My fr...</td>\n",
       "      <td>NaN</td>\n",
       "      <td>Couple Leisure</td>\n",
       "      <td>Economy Class</td>\n",
       "      <td>Sofia to Amsterdam via Ljubljana</td>\n",
       "      <td>September 2019</td>\n",
       "      <td>1.0</td>\n",
       "      <td>1.0</td>\n",
       "      <td>1.0</td>\n",
       "      <td>1.0</td>\n",
       "      <td>1.0</td>\n",
       "      <td>1.0</td>\n",
       "      <td>1.0</td>\n",
       "      <td>no</td>\n",
       "    </tr>\n",
       "  </tbody>\n",
       "</table>\n",
       "</div>"
      ],
      "text/plain": [
       "   Unnamed: 0   Airline Name Overall_Rating  \\\n",
       "0           0    AB Aviation              9   \n",
       "1           1    AB Aviation              1   \n",
       "2           2    AB Aviation              1   \n",
       "3           3  Adria Airways              1   \n",
       "4           4  Adria Airways              1   \n",
       "\n",
       "                            Review_Title          Review Date  Verified  \\\n",
       "0                \"pretty decent airline\"   11th November 2019      True   \n",
       "1                   \"Not a good airline\"       25th June 2019      True   \n",
       "2         \"flight was fortunately short\"       25th June 2019      True   \n",
       "3    \"I will never fly again with Adria\"  28th September 2019     False   \n",
       "4  \"it ruined our last days of holidays\"  24th September 2019      True   \n",
       "\n",
       "                                              Review       Aircraft  \\\n",
       "0    Moroni to Moheli. Turned out to be a pretty ...            NaN   \n",
       "1   Moroni to Anjouan. It is a very small airline...           E120   \n",
       "2    Anjouan to Dzaoudzi. A very small airline an...  Embraer E120    \n",
       "3    Please do a favor yourself and do not fly wi...            NaN   \n",
       "4   Do not book a flight with this airline! My fr...            NaN   \n",
       "\n",
       "  Type Of Traveller      Seat Type                             Route  \\\n",
       "0      Solo Leisure  Economy Class                  Moroni to Moheli   \n",
       "1      Solo Leisure  Economy Class                 Moroni to Anjouan   \n",
       "2      Solo Leisure  Economy Class               Anjouan to Dzaoudzi   \n",
       "3      Solo Leisure  Economy Class             Frankfurt to Pristina   \n",
       "4    Couple Leisure  Economy Class  Sofia to Amsterdam via Ljubljana   \n",
       "\n",
       "       Date Flown  Seat Comfort  Cabin Staff Service  Food & Beverages  \\\n",
       "0   November 2019           4.0                  5.0               4.0   \n",
       "1       June 2019           2.0                  2.0               1.0   \n",
       "2       June 2019           2.0                  1.0               1.0   \n",
       "3  September 2019           1.0                  1.0               NaN   \n",
       "4  September 2019           1.0                  1.0               1.0   \n",
       "\n",
       "   Ground Service  Inflight Entertainment  Wifi & Connectivity  \\\n",
       "0             4.0                     NaN                  NaN   \n",
       "1             1.0                     NaN                  NaN   \n",
       "2             1.0                     NaN                  NaN   \n",
       "3             1.0                     NaN                  NaN   \n",
       "4             1.0                     1.0                  1.0   \n",
       "\n",
       "   Value For Money Recommended  \n",
       "0              3.0         yes  \n",
       "1              2.0          no  \n",
       "2              2.0          no  \n",
       "3              1.0          no  \n",
       "4              1.0          no  "
      ]
     },
     "execution_count": 2,
     "metadata": {},
     "output_type": "execute_result"
    }
   ],
   "source": [
    "reviews = pd.read_csv('/kaggle/input/airline-reviews/Airline_Reviews.csv')\n",
    "reviews.head()"
   ]
  },
  {
   "cell_type": "markdown",
   "id": "a5c9a65a",
   "metadata": {
    "papermill": {
     "duration": 0.014858,
     "end_time": "2023-08-11T11:13:09.274301",
     "exception": false,
     "start_time": "2023-08-11T11:13:09.259443",
     "status": "completed"
    },
    "tags": []
   },
   "source": [
    "We looked the dataset, and turns out that this reviews belong to different Aviation company which Anor Londo has(Just in our Dystopian world)! We can choose 'Overall_Rating' column as our model's label. But it isn't necessary to predict exact rating point for each review. We just want to predict how good or how bad the review is."
   ]
  },
  {
   "cell_type": "markdown",
   "id": "1650d7ce",
   "metadata": {
    "papermill": {
     "duration": 0.01421,
     "end_time": "2023-08-11T11:13:09.304924",
     "exception": false,
     "start_time": "2023-08-11T11:13:09.290714",
     "status": "completed"
    },
    "tags": []
   },
   "source": [
    "# Data Cleaning"
   ]
  },
  {
   "cell_type": "code",
   "execution_count": 3,
   "id": "d661312c",
   "metadata": {
    "execution": {
     "iopub.execute_input": "2023-08-11T11:13:09.336165Z",
     "iopub.status.busy": "2023-08-11T11:13:09.335764Z",
     "iopub.status.idle": "2023-08-11T11:13:09.348141Z",
     "shell.execute_reply": "2023-08-11T11:13:09.346902Z"
    },
    "papermill": {
     "duration": 0.031056,
     "end_time": "2023-08-11T11:13:09.350503",
     "exception": false,
     "start_time": "2023-08-11T11:13:09.319447",
     "status": "completed"
    },
    "tags": []
   },
   "outputs": [
    {
     "data": {
      "text/plain": [
       "array(['9', '1', '8', '2', '3', '5', '6', '7', '4', 'n'], dtype=object)"
      ]
     },
     "execution_count": 3,
     "metadata": {},
     "output_type": "execute_result"
    }
   ],
   "source": [
    "#Let's look at the unique values in 'Overall_Rating' column\n",
    "reviews['Overall_Rating'].unique() "
   ]
  },
  {
   "cell_type": "markdown",
   "id": "4a96cabc",
   "metadata": {
    "papermill": {
     "duration": 0.016067,
     "end_time": "2023-08-11T11:13:09.381127",
     "exception": false,
     "start_time": "2023-08-11T11:13:09.365060",
     "status": "completed"
    },
    "tags": []
   },
   "source": [
    "We were expecting digits from 1 to 9 but what is n? Let's look at it."
   ]
  },
  {
   "cell_type": "code",
   "execution_count": 4,
   "id": "b8563241",
   "metadata": {
    "execution": {
     "iopub.execute_input": "2023-08-11T11:13:09.413511Z",
     "iopub.status.busy": "2023-08-11T11:13:09.413095Z",
     "iopub.status.idle": "2023-08-11T11:13:09.429672Z",
     "shell.execute_reply": "2023-08-11T11:13:09.428263Z"
    },
    "papermill": {
     "duration": 0.035436,
     "end_time": "2023-08-11T11:13:09.432439",
     "exception": false,
     "start_time": "2023-08-11T11:13:09.397003",
     "status": "completed"
    },
    "tags": []
   },
   "outputs": [
    {
     "data": {
      "text/plain": [
       "842"
      ]
     },
     "execution_count": 4,
     "metadata": {},
     "output_type": "execute_result"
    }
   ],
   "source": [
    "len(reviews[reviews['Overall_Rating'] == 'n'])"
   ]
  },
  {
   "cell_type": "code",
   "execution_count": 5,
   "id": "6fa7d6f2",
   "metadata": {
    "execution": {
     "iopub.execute_input": "2023-08-11T11:13:09.465314Z",
     "iopub.status.busy": "2023-08-11T11:13:09.464902Z",
     "iopub.status.idle": "2023-08-11T11:13:09.477274Z",
     "shell.execute_reply": "2023-08-11T11:13:09.476086Z"
    },
    "papermill": {
     "duration": 0.031752,
     "end_time": "2023-08-11T11:13:09.479904",
     "exception": false,
     "start_time": "2023-08-11T11:13:09.448152",
     "status": "completed"
    },
    "tags": []
   },
   "outputs": [
    {
     "data": {
      "text/plain": [
       "837"
      ]
     },
     "execution_count": 5,
     "metadata": {},
     "output_type": "execute_result"
    }
   ],
   "source": [
    "len(reviews['Recommended'].loc[(reviews['Overall_Rating'] == 'n') & (reviews['Recommended'] == 'no')])"
   ]
  },
  {
   "cell_type": "markdown",
   "id": "3e6ac544",
   "metadata": {
    "papermill": {
     "duration": 0.016654,
     "end_time": "2023-08-11T11:13:09.512754",
     "exception": false,
     "start_time": "2023-08-11T11:13:09.496100",
     "status": "completed"
    },
    "tags": []
   },
   "source": [
    "It seems that most of the people who rate the company as 'n' also doesn't recommend this particular company to other people. So, we can count 'n' as 0. Let's convert all n's to 0."
   ]
  },
  {
   "cell_type": "code",
   "execution_count": 6,
   "id": "cd8c39d2",
   "metadata": {
    "execution": {
     "iopub.execute_input": "2023-08-11T11:13:09.548602Z",
     "iopub.status.busy": "2023-08-11T11:13:09.548200Z",
     "iopub.status.idle": "2023-08-11T11:13:09.567850Z",
     "shell.execute_reply": "2023-08-11T11:13:09.566757Z"
    },
    "papermill": {
     "duration": 0.04019,
     "end_time": "2023-08-11T11:13:09.570249",
     "exception": false,
     "start_time": "2023-08-11T11:13:09.530059",
     "status": "completed"
    },
    "tags": []
   },
   "outputs": [
    {
     "data": {
      "text/plain": [
       "array(['9', '1', '8', '2', '3', '5', '6', '7', '4', '0'], dtype=object)"
      ]
     },
     "execution_count": 6,
     "metadata": {},
     "output_type": "execute_result"
    }
   ],
   "source": [
    "def convert_to_zero(rating):\n",
    "    if rating == 'n':\n",
    "        return '0'\n",
    "    else:\n",
    "        return rating\n",
    "reviews['Overall_Rating'] = reviews['Overall_Rating'].apply(lambda x: convert_to_zero(x))\n",
    "reviews['Overall_Rating'].unique()"
   ]
  },
  {
   "cell_type": "markdown",
   "id": "b9a6908d",
   "metadata": {
    "papermill": {
     "duration": 0.01543,
     "end_time": "2023-08-11T11:13:09.602026",
     "exception": false,
     "start_time": "2023-08-11T11:13:09.586596",
     "status": "completed"
    },
    "tags": []
   },
   "source": [
    "Our task is successful! There are no more n's in our label column. Next step is the create 4 intervals from this column. "
   ]
  },
  {
   "cell_type": "code",
   "execution_count": 7,
   "id": "0e87c28d",
   "metadata": {
    "execution": {
     "iopub.execute_input": "2023-08-11T11:13:09.635464Z",
     "iopub.status.busy": "2023-08-11T11:13:09.634764Z",
     "iopub.status.idle": "2023-08-11T11:13:09.652329Z",
     "shell.execute_reply": "2023-08-11T11:13:09.651192Z"
    },
    "papermill": {
     "duration": 0.036519,
     "end_time": "2023-08-11T11:13:09.654939",
     "exception": false,
     "start_time": "2023-08-11T11:13:09.618420",
     "status": "completed"
    },
    "tags": []
   },
   "outputs": [],
   "source": [
    "reviews['Overall_Rating'] = reviews['Overall_Rating'].astype(int) #Since this was an object column we converted to int column.\n",
    "reviews['how_was_the_flight'] = pd.cut(reviews['Overall_Rating'], 4, labels = [1,2,3,4])\n",
    "reviews['how_was_the_flight'] = reviews['how_was_the_flight'].astype(int)\n",
    "# 1 - Terrible\n",
    "# 2 - Bad\n",
    "# 3 - Average\n",
    "# 4 - Good"
   ]
  },
  {
   "cell_type": "markdown",
   "id": "216c5ebc",
   "metadata": {
    "papermill": {
     "duration": 0.014747,
     "end_time": "2023-08-11T11:13:09.684900",
     "exception": false,
     "start_time": "2023-08-11T11:13:09.670153",
     "status": "completed"
    },
    "tags": []
   },
   "source": [
    "We converted the 'Overall_Rating' column into four intervals, so we can drop this column. because our new label is 'how_was_the_flight'."
   ]
  },
  {
   "cell_type": "code",
   "execution_count": 8,
   "id": "c4b73753",
   "metadata": {
    "execution": {
     "iopub.execute_input": "2023-08-11T11:13:09.717963Z",
     "iopub.status.busy": "2023-08-11T11:13:09.717566Z",
     "iopub.status.idle": "2023-08-11T11:13:09.730389Z",
     "shell.execute_reply": "2023-08-11T11:13:09.729039Z"
    },
    "papermill": {
     "duration": 0.032697,
     "end_time": "2023-08-11T11:13:09.732737",
     "exception": false,
     "start_time": "2023-08-11T11:13:09.700040",
     "status": "completed"
    },
    "tags": []
   },
   "outputs": [],
   "source": [
    "reviews = reviews.drop('Overall_Rating', axis = 1)"
   ]
  },
  {
   "cell_type": "markdown",
   "id": "c0a5087b",
   "metadata": {
    "papermill": {
     "duration": 0.017403,
     "end_time": "2023-08-11T11:13:09.769858",
     "exception": false,
     "start_time": "2023-08-11T11:13:09.752455",
     "status": "completed"
    },
    "tags": []
   },
   "source": [
    "So far, so good! We created our label and it's time to look at the features."
   ]
  },
  {
   "cell_type": "code",
   "execution_count": 9,
   "id": "940a8c96",
   "metadata": {
    "execution": {
     "iopub.execute_input": "2023-08-11T11:13:09.805076Z",
     "iopub.status.busy": "2023-08-11T11:13:09.804692Z",
     "iopub.status.idle": "2023-08-11T11:13:09.862162Z",
     "shell.execute_reply": "2023-08-11T11:13:09.860553Z"
    },
    "papermill": {
     "duration": 0.078943,
     "end_time": "2023-08-11T11:13:09.864713",
     "exception": false,
     "start_time": "2023-08-11T11:13:09.785770",
     "status": "completed"
    },
    "tags": []
   },
   "outputs": [
    {
     "name": "stdout",
     "output_type": "stream",
     "text": [
      "<class 'pandas.core.frame.DataFrame'>\n",
      "RangeIndex: 23171 entries, 0 to 23170\n",
      "Data columns (total 20 columns):\n",
      " #   Column                  Non-Null Count  Dtype  \n",
      "---  ------                  --------------  -----  \n",
      " 0   Unnamed: 0              23171 non-null  int64  \n",
      " 1   Airline Name            23171 non-null  object \n",
      " 2   Review_Title            23171 non-null  object \n",
      " 3   Review Date             23171 non-null  object \n",
      " 4   Verified                23171 non-null  bool   \n",
      " 5   Review                  23171 non-null  object \n",
      " 6   Aircraft                7129 non-null   object \n",
      " 7   Type Of Traveller       19433 non-null  object \n",
      " 8   Seat Type               22075 non-null  object \n",
      " 9   Route                   19343 non-null  object \n",
      " 10  Date Flown              19417 non-null  object \n",
      " 11  Seat Comfort            19016 non-null  float64\n",
      " 12  Cabin Staff Service     18911 non-null  float64\n",
      " 13  Food & Beverages        14500 non-null  float64\n",
      " 14  Ground Service          18378 non-null  float64\n",
      " 15  Inflight Entertainment  10829 non-null  float64\n",
      " 16  Wifi & Connectivity     5920 non-null   float64\n",
      " 17  Value For Money         22105 non-null  float64\n",
      " 18  Recommended             23171 non-null  object \n",
      " 19  how_was_the_flight      23171 non-null  int64  \n",
      "dtypes: bool(1), float64(7), int64(2), object(10)\n",
      "memory usage: 3.4+ MB\n"
     ]
    }
   ],
   "source": [
    "reviews.info()"
   ]
  },
  {
   "cell_type": "markdown",
   "id": "4e76d2a0",
   "metadata": {
    "papermill": {
     "duration": 0.015117,
     "end_time": "2023-08-11T11:13:09.896017",
     "exception": false,
     "start_time": "2023-08-11T11:13:09.880900",
     "status": "completed"
    },
    "tags": []
   },
   "source": [
    "There are too many columns and it's very hard to keep track of all null values! Let's write a bunch of lines of code to count null values from all columns. "
   ]
  },
  {
   "cell_type": "code",
   "execution_count": 10,
   "id": "f098587c",
   "metadata": {
    "execution": {
     "iopub.execute_input": "2023-08-11T11:13:09.928304Z",
     "iopub.status.busy": "2023-08-11T11:13:09.927912Z",
     "iopub.status.idle": "2023-08-11T11:13:10.468507Z",
     "shell.execute_reply": "2023-08-11T11:13:10.466537Z"
    },
    "papermill": {
     "duration": 0.559942,
     "end_time": "2023-08-11T11:13:10.471362",
     "exception": false,
     "start_time": "2023-08-11T11:13:09.911420",
     "status": "completed"
    },
    "tags": []
   },
   "outputs": [
    {
     "data": {
      "text/plain": [
       "<Axes: >"
      ]
     },
     "execution_count": 10,
     "metadata": {},
     "output_type": "execute_result"
    },
    {
     "data": {
      "image/png": "[encoded data removed]",
      "text/plain": [
       "<Figure size 2500x400 with 1 Axes>"
      ]
     },
     "metadata": {},
     "output_type": "display_data"
    }
   ],
   "source": [
    "#Plotting null values using matplotlib and seaborn.\n",
    "null_value_count = []\n",
    "col_names = []\n",
    "for col in reviews:\n",
    "    if reviews[col].isna().sum() > 0:\n",
    "        null_value_count.append(reviews[col].isna().sum())\n",
    "    else:\n",
    "        pass\n",
    "for col in reviews:\n",
    "     if reviews[col].isna().sum() > 0:\n",
    "             col_names.append(col)\n",
    "sns.set_theme(style = 'darkgrid', palette = 'pastel')\n",
    "plt.figure(figsize=(25,4))\n",
    "sns.barplot(x = col_names, y = null_value_count)"
   ]
  },
  {
   "cell_type": "markdown",
   "id": "2b3e516d",
   "metadata": {
    "papermill": {
     "duration": 0.016242,
     "end_time": "2023-08-11T11:13:10.503591",
     "exception": false,
     "start_time": "2023-08-11T11:13:10.487349",
     "status": "completed"
    },
    "tags": []
   },
   "source": [
    "**We have 23171 samples in total.**\n",
    "* There is too much null values in 'Aircraft', 'Wifi & Connectivity' and 'Inflight Entertainment' columns. So we may consider deleting them.\n",
    "* 'Food & Beverages' column also contains a lot of null values. Since Food and beverage is a very important thing in all kinds of transports(I mean long way transports) we may drop the rows which 'Food & Beverages' is null.\n",
    "* We don't clearly sure about how to deal with 'Type of Traveller' and 'Date Flown', because we don't know how they affect people's behaviour when they were writing the reviews.\n",
    "* If we look the dataset very closely, the 'Route' column is already in 'Review' column, so we are going to drop it."
   ]
  },
  {
   "cell_type": "code",
   "execution_count": 11,
   "id": "4cf36fb3",
   "metadata": {
    "execution": {
     "iopub.execute_input": "2023-08-11T11:13:10.537977Z",
     "iopub.status.busy": "2023-08-11T11:13:10.537571Z",
     "iopub.status.idle": "2023-08-11T11:13:10.555766Z",
     "shell.execute_reply": "2023-08-11T11:13:10.554765Z"
    },
    "papermill": {
     "duration": 0.03823,
     "end_time": "2023-08-11T11:13:10.558296",
     "exception": false,
     "start_time": "2023-08-11T11:13:10.520066",
     "status": "completed"
    },
    "tags": []
   },
   "outputs": [],
   "source": [
    "#Dropping 'Aircraft', 'Wifi & Connectivity', 'Route' and 'Inflight Entertainment' columns.\n",
    "reviews = reviews.drop(['Aircraft', 'Wifi & Connectivity', 'Route', 'Inflight Entertainment'], axis = 1)\n",
    "\n",
    "#Dropping the rows which 'Food & Beverages' is null.\n",
    "reviews = reviews.dropna(axis = 0, subset = ['Food & Beverages'])"
   ]
  },
  {
   "cell_type": "code",
   "execution_count": 12,
   "id": "7d143932",
   "metadata": {
    "execution": {
     "iopub.execute_input": "2023-08-11T11:13:10.592514Z",
     "iopub.status.busy": "2023-08-11T11:13:10.592121Z",
     "iopub.status.idle": "2023-08-11T11:13:10.612066Z",
     "shell.execute_reply": "2023-08-11T11:13:10.610978Z"
    },
    "papermill": {
     "duration": 0.03963,
     "end_time": "2023-08-11T11:13:10.614270",
     "exception": false,
     "start_time": "2023-08-11T11:13:10.574640",
     "status": "completed"
    },
    "tags": []
   },
   "outputs": [
    {
     "data": {
      "text/html": [
       "<div>\n",
       "<style scoped>\n",
       "    .dataframe tbody tr th:only-of-type {\n",
       "        vertical-align: middle;\n",
       "    }\n",
       "\n",
       "    .dataframe tbody tr th {\n",
       "        vertical-align: top;\n",
       "    }\n",
       "\n",
       "    .dataframe thead th {\n",
       "        text-align: right;\n",
       "    }\n",
       "</style>\n",
       "<table border=\"1\" class=\"dataframe\">\n",
       "  <thead>\n",
       "    <tr style=\"text-align: right;\">\n",
       "      <th></th>\n",
       "      <th>Unnamed: 0</th>\n",
       "      <th>Airline Name</th>\n",
       "      <th>Review_Title</th>\n",
       "      <th>Review Date</th>\n",
       "      <th>Verified</th>\n",
       "      <th>Review</th>\n",
       "      <th>Type Of Traveller</th>\n",
       "      <th>Seat Type</th>\n",
       "      <th>Date Flown</th>\n",
       "      <th>Seat Comfort</th>\n",
       "      <th>Cabin Staff Service</th>\n",
       "      <th>Food &amp; Beverages</th>\n",
       "      <th>Ground Service</th>\n",
       "      <th>Value For Money</th>\n",
       "      <th>Recommended</th>\n",
       "      <th>how_was_the_flight</th>\n",
       "    </tr>\n",
       "  </thead>\n",
       "  <tbody>\n",
       "    <tr>\n",
       "      <th>0</th>\n",
       "      <td>0</td>\n",
       "      <td>AB Aviation</td>\n",
       "      <td>\"pretty decent airline\"</td>\n",
       "      <td>11th November 2019</td>\n",
       "      <td>True</td>\n",
       "      <td>Moroni to Moheli. Turned out to be a pretty ...</td>\n",
       "      <td>Solo Leisure</td>\n",
       "      <td>Economy Class</td>\n",
       "      <td>November 2019</td>\n",
       "      <td>4.0</td>\n",
       "      <td>5.0</td>\n",
       "      <td>4.0</td>\n",
       "      <td>4.0</td>\n",
       "      <td>3.0</td>\n",
       "      <td>yes</td>\n",
       "      <td>4</td>\n",
       "    </tr>\n",
       "    <tr>\n",
       "      <th>1</th>\n",
       "      <td>1</td>\n",
       "      <td>AB Aviation</td>\n",
       "      <td>\"Not a good airline\"</td>\n",
       "      <td>25th June 2019</td>\n",
       "      <td>True</td>\n",
       "      <td>Moroni to Anjouan. It is a very small airline...</td>\n",
       "      <td>Solo Leisure</td>\n",
       "      <td>Economy Class</td>\n",
       "      <td>June 2019</td>\n",
       "      <td>2.0</td>\n",
       "      <td>2.0</td>\n",
       "      <td>1.0</td>\n",
       "      <td>1.0</td>\n",
       "      <td>2.0</td>\n",
       "      <td>no</td>\n",
       "      <td>1</td>\n",
       "    </tr>\n",
       "    <tr>\n",
       "      <th>2</th>\n",
       "      <td>2</td>\n",
       "      <td>AB Aviation</td>\n",
       "      <td>\"flight was fortunately short\"</td>\n",
       "      <td>25th June 2019</td>\n",
       "      <td>True</td>\n",
       "      <td>Anjouan to Dzaoudzi. A very small airline an...</td>\n",
       "      <td>Solo Leisure</td>\n",
       "      <td>Economy Class</td>\n",
       "      <td>June 2019</td>\n",
       "      <td>2.0</td>\n",
       "      <td>1.0</td>\n",
       "      <td>1.0</td>\n",
       "      <td>1.0</td>\n",
       "      <td>2.0</td>\n",
       "      <td>no</td>\n",
       "      <td>1</td>\n",
       "    </tr>\n",
       "    <tr>\n",
       "      <th>4</th>\n",
       "      <td>4</td>\n",
       "      <td>Adria Airways</td>\n",
       "      <td>\"it ruined our last days of holidays\"</td>\n",
       "      <td>24th September 2019</td>\n",
       "      <td>True</td>\n",
       "      <td>Do not book a flight with this airline! My fr...</td>\n",
       "      <td>Couple Leisure</td>\n",
       "      <td>Economy Class</td>\n",
       "      <td>September 2019</td>\n",
       "      <td>1.0</td>\n",
       "      <td>1.0</td>\n",
       "      <td>1.0</td>\n",
       "      <td>1.0</td>\n",
       "      <td>1.0</td>\n",
       "      <td>no</td>\n",
       "      <td>1</td>\n",
       "    </tr>\n",
       "    <tr>\n",
       "      <th>5</th>\n",
       "      <td>5</td>\n",
       "      <td>Adria Airways</td>\n",
       "      <td>\"Had very bad experience\"</td>\n",
       "      <td>17th September 2019</td>\n",
       "      <td>True</td>\n",
       "      <td>Had very bad experience with rerouted and ca...</td>\n",
       "      <td>Couple Leisure</td>\n",
       "      <td>Economy Class</td>\n",
       "      <td>September 2019</td>\n",
       "      <td>1.0</td>\n",
       "      <td>1.0</td>\n",
       "      <td>1.0</td>\n",
       "      <td>1.0</td>\n",
       "      <td>1.0</td>\n",
       "      <td>no</td>\n",
       "      <td>1</td>\n",
       "    </tr>\n",
       "  </tbody>\n",
       "</table>\n",
       "</div>"
      ],
      "text/plain": [
       "   Unnamed: 0   Airline Name                           Review_Title  \\\n",
       "0           0    AB Aviation                \"pretty decent airline\"   \n",
       "1           1    AB Aviation                   \"Not a good airline\"   \n",
       "2           2    AB Aviation         \"flight was fortunately short\"   \n",
       "4           4  Adria Airways  \"it ruined our last days of holidays\"   \n",
       "5           5  Adria Airways              \"Had very bad experience\"   \n",
       "\n",
       "           Review Date  Verified  \\\n",
       "0   11th November 2019      True   \n",
       "1       25th June 2019      True   \n",
       "2       25th June 2019      True   \n",
       "4  24th September 2019      True   \n",
       "5  17th September 2019      True   \n",
       "\n",
       "                                              Review Type Of Traveller  \\\n",
       "0    Moroni to Moheli. Turned out to be a pretty ...      Solo Leisure   \n",
       "1   Moroni to Anjouan. It is a very small airline...      Solo Leisure   \n",
       "2    Anjouan to Dzaoudzi. A very small airline an...      Solo Leisure   \n",
       "4   Do not book a flight with this airline! My fr...    Couple Leisure   \n",
       "5    Had very bad experience with rerouted and ca...    Couple Leisure   \n",
       "\n",
       "       Seat Type      Date Flown  Seat Comfort  Cabin Staff Service  \\\n",
       "0  Economy Class   November 2019           4.0                  5.0   \n",
       "1  Economy Class       June 2019           2.0                  2.0   \n",
       "2  Economy Class       June 2019           2.0                  1.0   \n",
       "4  Economy Class  September 2019           1.0                  1.0   \n",
       "5  Economy Class  September 2019           1.0                  1.0   \n",
       "\n",
       "   Food & Beverages  Ground Service  Value For Money Recommended  \\\n",
       "0               4.0             4.0              3.0         yes   \n",
       "1               1.0             1.0              2.0          no   \n",
       "2               1.0             1.0              2.0          no   \n",
       "4               1.0             1.0              1.0          no   \n",
       "5               1.0             1.0              1.0          no   \n",
       "\n",
       "   how_was_the_flight  \n",
       "0                   4  \n",
       "1                   1  \n",
       "2                   1  \n",
       "4                   1  \n",
       "5                   1  "
      ]
     },
     "execution_count": 12,
     "metadata": {},
     "output_type": "execute_result"
    }
   ],
   "source": [
    "reviews.head()"
   ]
  },
  {
   "cell_type": "markdown",
   "id": "4121b370",
   "metadata": {
    "papermill": {
     "duration": 0.016078,
     "end_time": "2023-08-11T11:13:10.646806",
     "exception": false,
     "start_time": "2023-08-11T11:13:10.630728",
     "status": "completed"
    },
    "tags": []
   },
   "source": [
    "We have 14500 rows left, which is enough for now. Let's set us a limit, that we won't go down below the 10000 rows."
   ]
  },
  {
   "cell_type": "code",
   "execution_count": 13,
   "id": "0fa7adba",
   "metadata": {
    "execution": {
     "iopub.execute_input": "2023-08-11T11:13:10.681698Z",
     "iopub.status.busy": "2023-08-11T11:13:10.681303Z",
     "iopub.status.idle": "2023-08-11T11:13:11.060578Z",
     "shell.execute_reply": "2023-08-11T11:13:11.059275Z"
    },
    "papermill": {
     "duration": 0.400136,
     "end_time": "2023-08-11T11:13:11.063745",
     "exception": false,
     "start_time": "2023-08-11T11:13:10.663609",
     "status": "completed"
    },
    "tags": []
   },
   "outputs": [
    {
     "data": {
      "text/plain": [
       "<Axes: >"
      ]
     },
     "execution_count": 13,
     "metadata": {},
     "output_type": "execute_result"
    },
    {
     "data": {
      "image/png": "[encoded data removed]",
      "text/plain": [
       "<Figure size 2500x400 with 1 Axes>"
      ]
     },
     "metadata": {},
     "output_type": "display_data"
    }
   ],
   "source": [
    "#Let's plot again the null values in final dataset\n",
    "null_value_count = []\n",
    "col_names = []\n",
    "for col in reviews:\n",
    "    if reviews[col].isna().sum() > 0:\n",
    "        null_value_count.append(reviews[col].isna().sum())\n",
    "    else:\n",
    "        pass\n",
    "for col in reviews:\n",
    "     if reviews[col].isna().sum() > 0:\n",
    "             col_names.append(col)\n",
    "sns.set_theme(style = 'darkgrid', palette = 'pastel')\n",
    "plt.figure(figsize=(25, 4))\n",
    "sns.barplot(x = col_names, y = null_value_count)"
   ]
  },
  {
   "cell_type": "markdown",
   "id": "ee60d5d3",
   "metadata": {
    "papermill": {
     "duration": 0.02182,
     "end_time": "2023-08-11T11:13:11.110326",
     "exception": false,
     "start_time": "2023-08-11T11:13:11.088506",
     "status": "completed"
    },
    "tags": []
   },
   "source": [
    "'Seat Type', 'Seat Comfort' and 'Cabin Staff Service' columns have null values, but since they are very little we can't see the exact amount of null values in these columns. The code in below will help us!"
   ]
  },
  {
   "cell_type": "code",
   "execution_count": 14,
   "id": "88d1216f",
   "metadata": {
    "execution": {
     "iopub.execute_input": "2023-08-11T11:13:11.148962Z",
     "iopub.status.busy": "2023-08-11T11:13:11.148570Z",
     "iopub.status.idle": "2023-08-11T11:13:11.179356Z",
     "shell.execute_reply": "2023-08-11T11:13:11.178454Z"
    },
    "papermill": {
     "duration": 0.051984,
     "end_time": "2023-08-11T11:13:11.182278",
     "exception": false,
     "start_time": "2023-08-11T11:13:11.130294",
     "status": "completed"
    },
    "tags": []
   },
   "outputs": [
    {
     "data": {
      "text/plain": [
       "Unnamed: 0                0\n",
       "Airline Name              0\n",
       "Review_Title              0\n",
       "Review Date               0\n",
       "Verified                  0\n",
       "Review                    0\n",
       "Type Of Traveller      1388\n",
       "Seat Type                16\n",
       "Date Flown             1398\n",
       "Seat Comfort              1\n",
       "Cabin Staff Service       1\n",
       "Food & Beverages          0\n",
       "Ground Service         1392\n",
       "Value For Money           0\n",
       "Recommended               0\n",
       "how_was_the_flight        0\n",
       "dtype: int64"
      ]
     },
     "execution_count": 14,
     "metadata": {},
     "output_type": "execute_result"
    }
   ],
   "source": [
    "reviews.isna().sum()"
   ]
  },
  {
   "cell_type": "markdown",
   "id": "b81ac48d",
   "metadata": {
    "papermill": {
     "duration": 0.019274,
     "end_time": "2023-08-11T11:13:11.245259",
     "exception": false,
     "start_time": "2023-08-11T11:13:11.225985",
     "status": "completed"
    },
    "tags": []
   },
   "source": [
    "*  There relatively small amount of samples remain with null values. Let's plot their linear correlations with label (which is 'Overall_Rating' column).\n",
    "* 'Seat Type' has 16, 'Seat Comfort' has 1 and 'Cabin Staff Service' has 1 null values, so maybe we can fill the values using 'pandas.DataFrame.fillna()' or 'sklearn.impute.SimpleImputer()'.\n",
    "* 'Type of Traveller', 'Date Flown', 'Ground Service' columns has too many null values to fill. If we fill these values it may affect our model in a bad way."
   ]
  },
  {
   "cell_type": "code",
   "execution_count": 15,
   "id": "306ab387",
   "metadata": {
    "execution": {
     "iopub.execute_input": "2023-08-11T11:13:11.291054Z",
     "iopub.status.busy": "2023-08-11T11:13:11.290632Z",
     "iopub.status.idle": "2023-08-11T11:13:12.058353Z",
     "shell.execute_reply": "2023-08-11T11:13:12.057135Z"
    },
    "papermill": {
     "duration": 0.791051,
     "end_time": "2023-08-11T11:13:12.062068",
     "exception": false,
     "start_time": "2023-08-11T11:13:11.271017",
     "status": "completed"
    },
    "tags": []
   },
   "outputs": [
    {
     "name": "stderr",
     "output_type": "stream",
     "text": [
      "/tmp/ipykernel_20/880353202.py:3: FutureWarning: The default value of numeric_only in DataFrame.corr is deprecated. In a future version, it will default to False. Select only valid columns or specify the value of numeric_only to silence this warning.\n",
      "  sns.heatmap(reviews.drop('Unnamed: 0', axis = 1).corr(), annot = True, cmap = sns.choose_cubehelix_palette(as_cmap = True), vmin = -1, vmax = 1)\n"
     ]
    },
    {
     "data": {
      "text/plain": [
       "<Figure size 1500x1500 with 0 Axes>"
      ]
     },
     "metadata": {},
     "output_type": "display_data"
    },
    {
     "data": {
      "application/vnd.jupyter.widget-view+json": {
       "model_id": "bf81d981494544d0bce92c66bf63d820",
       "version_major": 2,
       "version_minor": 0
      },
      "text/plain": [
       "interactive(children=(IntSlider(value=9, description='n_colors', max=16, min=2), FloatSlider(value=0.0, descri…"
      ]
     },
     "metadata": {},
     "output_type": "display_data"
    },
    {
     "data": {
      "text/plain": [
       "<Axes: >"
      ]
     },
     "execution_count": 15,
     "metadata": {},
     "output_type": "execute_result"
    },
    {
     "data": {
      "image/png": "[encoded data removed]",
      "text/plain": [
       "<Figure size 640x480 with 2 Axes>"
      ]
     },
     "metadata": {},
     "output_type": "display_data"
    }
   ],
   "source": [
    "#Let's look at the linear correlations.\n",
    "plt.figure(figsize=(15,15))\n",
    "sns.heatmap(reviews.drop('Unnamed: 0', axis = 1).corr(), annot = True, cmap = sns.choose_cubehelix_palette(as_cmap = True), vmin = -1, vmax = 1)"
   ]
  },
  {
   "cell_type": "markdown",
   "id": "7f84e1d3",
   "metadata": {
    "papermill": {
     "duration": 0.019283,
     "end_time": "2023-08-11T11:13:12.101782",
     "exception": false,
     "start_time": "2023-08-11T11:13:12.082499",
     "status": "completed"
    },
    "tags": []
   },
   "source": [
    "People scored different attributes of companies out of five(e.g. ground service, seat comfort, foods etc.). So we'll try to keep them as possible as we can. Because they can be very powerful when using together, but not alone."
   ]
  },
  {
   "cell_type": "code",
   "execution_count": 16,
   "id": "d88558f1",
   "metadata": {
    "execution": {
     "iopub.execute_input": "2023-08-11T11:13:12.143234Z",
     "iopub.status.busy": "2023-08-11T11:13:12.142820Z",
     "iopub.status.idle": "2023-08-11T11:13:12.150146Z",
     "shell.execute_reply": "2023-08-11T11:13:12.149287Z"
    },
    "papermill": {
     "duration": 0.030087,
     "end_time": "2023-08-11T11:13:12.152138",
     "exception": false,
     "start_time": "2023-08-11T11:13:12.122051",
     "status": "completed"
    },
    "tags": []
   },
   "outputs": [
    {
     "data": {
      "text/plain": [
       "448"
      ]
     },
     "execution_count": 16,
     "metadata": {},
     "output_type": "execute_result"
    }
   ],
   "source": [
    "len(reviews['Airline Name'].unique())"
   ]
  },
  {
   "cell_type": "markdown",
   "id": "221ba239",
   "metadata": {
    "papermill": {
     "duration": 0.019352,
     "end_time": "2023-08-11T11:13:12.191074",
     "exception": false,
     "start_time": "2023-08-11T11:13:12.171722",
     "status": "completed"
    },
    "tags": []
   },
   "source": [
    "As you can see there are too many unique values for 'Airline Name' column. If we decide to create dummie variables from it, it would be very terrible choice for us. Because it means that we adding 448 extra features to our dataset and it'll probably end up with decreasing of our model performance and also model will need more time to learn. Remember, we're inside of the some kind of exam and our time is very valuable right now!"
   ]
  },
  {
   "cell_type": "code",
   "execution_count": 17,
   "id": "5f7fe8c2",
   "metadata": {
    "execution": {
     "iopub.execute_input": "2023-08-11T11:13:12.232215Z",
     "iopub.status.busy": "2023-08-11T11:13:12.231784Z",
     "iopub.status.idle": "2023-08-11T11:13:12.239371Z",
     "shell.execute_reply": "2023-08-11T11:13:12.238214Z"
    },
    "papermill": {
     "duration": 0.030933,
     "end_time": "2023-08-11T11:13:12.241789",
     "exception": false,
     "start_time": "2023-08-11T11:13:12.210856",
     "status": "completed"
    },
    "tags": []
   },
   "outputs": [],
   "source": [
    "reviews = reviews.drop('Airline Name', axis = 1)"
   ]
  },
  {
   "cell_type": "code",
   "execution_count": 18,
   "id": "92105014",
   "metadata": {
    "execution": {
     "iopub.execute_input": "2023-08-11T11:13:12.283217Z",
     "iopub.status.busy": "2023-08-11T11:13:12.282783Z",
     "iopub.status.idle": "2023-08-11T11:13:12.788854Z",
     "shell.execute_reply": "2023-08-11T11:13:12.787711Z"
    },
    "papermill": {
     "duration": 0.529375,
     "end_time": "2023-08-11T11:13:12.791244",
     "exception": false,
     "start_time": "2023-08-11T11:13:12.261869",
     "status": "completed"
    },
    "tags": []
   },
   "outputs": [
    {
     "data": {
      "text/plain": [
       "<Axes: xlabel='Verified', ylabel='count'>"
      ]
     },
     "execution_count": 18,
     "metadata": {},
     "output_type": "execute_result"
    },
    {
     "data": {
      "image/png": "[encoded data removed]",
      "text/plain": [
       "<Figure size 1000x400 with 1 Axes>"
      ]
     },
     "metadata": {},
     "output_type": "display_data"
    }
   ],
   "source": [
    "sns.set_theme(style = 'darkgrid', palette = 'pastel')\n",
    "plt.figure(figsize = (10, 4))\n",
    "sns.countplot(data = reviews, x = 'Verified', hue = 'how_was_the_flight')"
   ]
  },
  {
   "cell_type": "code",
   "execution_count": 19,
   "id": "9ff07e93",
   "metadata": {
    "execution": {
     "iopub.execute_input": "2023-08-11T11:13:12.834601Z",
     "iopub.status.busy": "2023-08-11T11:13:12.834157Z",
     "iopub.status.idle": "2023-08-11T11:13:13.174000Z",
     "shell.execute_reply": "2023-08-11T11:13:13.172885Z"
    },
    "papermill": {
     "duration": 0.364107,
     "end_time": "2023-08-11T11:13:13.176317",
     "exception": false,
     "start_time": "2023-08-11T11:13:12.812210",
     "status": "completed"
    },
    "tags": []
   },
   "outputs": [
    {
     "data": {
      "text/plain": [
       "<Axes: xlabel='Recommended', ylabel='count'>"
      ]
     },
     "execution_count": 19,
     "metadata": {},
     "output_type": "execute_result"
    },
    {
     "data": {
      "image/png": "[encoded data removed]",
      "text/plain": [
       "<Figure size 1000x400 with 1 Axes>"
      ]
     },
     "metadata": {},
     "output_type": "display_data"
    }
   ],
   "source": [
    "sns.set_theme(style = 'darkgrid', palette = 'pastel')\n",
    "plt.figure(figsize = (10, 4))\n",
    "sns.countplot(data = reviews, x = 'Recommended', hue = 'how_was_the_flight')"
   ]
  },
  {
   "cell_type": "markdown",
   "id": "4c1bc5f5",
   "metadata": {
    "papermill": {
     "duration": 0.020635,
     "end_time": "2023-08-11T11:13:13.219315",
     "exception": false,
     "start_time": "2023-08-11T11:13:13.198680",
     "status": "completed"
    },
    "tags": []
   },
   "source": [
    "About 2000 people write a 'Very bad review' and also recommending the company? That's clearly an outlier case! Let's look at them."
   ]
  },
  {
   "cell_type": "code",
   "execution_count": 20,
   "id": "a20fe48d",
   "metadata": {
    "execution": {
     "iopub.execute_input": "2023-08-11T11:13:13.263624Z",
     "iopub.status.busy": "2023-08-11T11:13:13.263148Z",
     "iopub.status.idle": "2023-08-11T11:13:13.273852Z",
     "shell.execute_reply": "2023-08-11T11:13:13.272769Z"
    },
    "papermill": {
     "duration": 0.035032,
     "end_time": "2023-08-11T11:13:13.275885",
     "exception": false,
     "start_time": "2023-08-11T11:13:13.240853",
     "status": "completed"
    },
    "tags": []
   },
   "outputs": [
    {
     "data": {
      "text/plain": [
       "1787"
      ]
     },
     "execution_count": 20,
     "metadata": {},
     "output_type": "execute_result"
    }
   ],
   "source": [
    "len(reviews[(reviews['Recommended'] == 'yes') & (reviews['how_was_the_flight'] == 1)])"
   ]
  },
  {
   "cell_type": "markdown",
   "id": "d4402658",
   "metadata": {
    "papermill": {
     "duration": 0.020885,
     "end_time": "2023-08-11T11:13:13.317860",
     "exception": false,
     "start_time": "2023-08-11T11:13:13.296975",
     "status": "completed"
    },
    "tags": []
   },
   "source": [
    "There are 1787 people who has very bad reviews and also recommending the airline company, interesting. Let's look at their reviews."
   ]
  },
  {
   "cell_type": "code",
   "execution_count": 21,
   "id": "e4cc0308",
   "metadata": {
    "execution": {
     "iopub.execute_input": "2023-08-11T11:13:13.365199Z",
     "iopub.status.busy": "2023-08-11T11:13:13.364760Z",
     "iopub.status.idle": "2023-08-11T11:13:13.392740Z",
     "shell.execute_reply": "2023-08-11T11:13:13.391622Z"
    },
    "papermill": {
     "duration": 0.056114,
     "end_time": "2023-08-11T11:13:13.395244",
     "exception": false,
     "start_time": "2023-08-11T11:13:13.339130",
     "status": "completed"
    },
    "tags": []
   },
   "outputs": [
    {
     "data": {
      "text/html": [
       "<div>\n",
       "<style scoped>\n",
       "    .dataframe tbody tr th:only-of-type {\n",
       "        vertical-align: middle;\n",
       "    }\n",
       "\n",
       "    .dataframe tbody tr th {\n",
       "        vertical-align: top;\n",
       "    }\n",
       "\n",
       "    .dataframe thead th {\n",
       "        text-align: right;\n",
       "    }\n",
       "</style>\n",
       "<table border=\"1\" class=\"dataframe\">\n",
       "  <thead>\n",
       "    <tr style=\"text-align: right;\">\n",
       "      <th></th>\n",
       "      <th>Unnamed: 0</th>\n",
       "      <th>Review_Title</th>\n",
       "      <th>Review Date</th>\n",
       "      <th>Verified</th>\n",
       "      <th>Review</th>\n",
       "      <th>Type Of Traveller</th>\n",
       "      <th>Seat Type</th>\n",
       "      <th>Date Flown</th>\n",
       "      <th>Seat Comfort</th>\n",
       "      <th>Cabin Staff Service</th>\n",
       "      <th>Food &amp; Beverages</th>\n",
       "      <th>Ground Service</th>\n",
       "      <th>Value For Money</th>\n",
       "      <th>Recommended</th>\n",
       "      <th>how_was_the_flight</th>\n",
       "    </tr>\n",
       "  </thead>\n",
       "  <tbody>\n",
       "    <tr>\n",
       "      <th>15</th>\n",
       "      <td>15</td>\n",
       "      <td>\"Flight was very comfortable\"</td>\n",
       "      <td>4th May 2018</td>\n",
       "      <td>True</td>\n",
       "      <td>Frankfurt to Ljubljana. Flight was very comf...</td>\n",
       "      <td>Business</td>\n",
       "      <td>Economy Class</td>\n",
       "      <td>April 2018</td>\n",
       "      <td>5.0</td>\n",
       "      <td>5.0</td>\n",
       "      <td>5.0</td>\n",
       "      <td>5.0</td>\n",
       "      <td>5.0</td>\n",
       "      <td>yes</td>\n",
       "      <td>1</td>\n",
       "    </tr>\n",
       "    <tr>\n",
       "      <th>31</th>\n",
       "      <td>31</td>\n",
       "      <td>\"Clean and fresh aircraft \"</td>\n",
       "      <td>29th July 2016</td>\n",
       "      <td>False</td>\n",
       "      <td>Tallinn to Stockholm with Adria Airways. Cle...</td>\n",
       "      <td>Solo Leisure</td>\n",
       "      <td>Economy Class</td>\n",
       "      <td>July 2016</td>\n",
       "      <td>5.0</td>\n",
       "      <td>5.0</td>\n",
       "      <td>5.0</td>\n",
       "      <td>5.0</td>\n",
       "      <td>5.0</td>\n",
       "      <td>yes</td>\n",
       "      <td>1</td>\n",
       "    </tr>\n",
       "    <tr>\n",
       "      <th>43</th>\n",
       "      <td>43</td>\n",
       "      <td>Adria Airways customer review</td>\n",
       "      <td>5th January 2015</td>\n",
       "      <td>False</td>\n",
       "      <td>Two short hops ZRH-LJU and LJU-VIE. Very fast ...</td>\n",
       "      <td>NaN</td>\n",
       "      <td>Business Class</td>\n",
       "      <td>NaN</td>\n",
       "      <td>4.0</td>\n",
       "      <td>5.0</td>\n",
       "      <td>4.0</td>\n",
       "      <td>NaN</td>\n",
       "      <td>5.0</td>\n",
       "      <td>yes</td>\n",
       "      <td>1</td>\n",
       "    </tr>\n",
       "    <tr>\n",
       "      <th>51</th>\n",
       "      <td>51</td>\n",
       "      <td>Adria Airways customer review</td>\n",
       "      <td>6th January 2014</td>\n",
       "      <td>False</td>\n",
       "      <td>Flights from LJU to ZRH and back all on time. ...</td>\n",
       "      <td>NaN</td>\n",
       "      <td>Economy Class</td>\n",
       "      <td>NaN</td>\n",
       "      <td>5.0</td>\n",
       "      <td>5.0</td>\n",
       "      <td>4.0</td>\n",
       "      <td>NaN</td>\n",
       "      <td>4.0</td>\n",
       "      <td>yes</td>\n",
       "      <td>1</td>\n",
       "    </tr>\n",
       "    <tr>\n",
       "      <th>113</th>\n",
       "      <td>113</td>\n",
       "      <td>\"Please keep up the excellent work\"</td>\n",
       "      <td>26th April 2023</td>\n",
       "      <td>True</td>\n",
       "      <td>Aegean Airlines will remain always my first ...</td>\n",
       "      <td>Solo Leisure</td>\n",
       "      <td>Economy Class</td>\n",
       "      <td>April 2023</td>\n",
       "      <td>5.0</td>\n",
       "      <td>5.0</td>\n",
       "      <td>5.0</td>\n",
       "      <td>5.0</td>\n",
       "      <td>5.0</td>\n",
       "      <td>yes</td>\n",
       "      <td>1</td>\n",
       "    </tr>\n",
       "    <tr>\n",
       "      <th>130</th>\n",
       "      <td>130</td>\n",
       "      <td>\"professional cabin crew\"</td>\n",
       "      <td>13th November 2022</td>\n",
       "      <td>True</td>\n",
       "      <td>Best Airline in Europe, professional cabin cr...</td>\n",
       "      <td>Solo Leisure</td>\n",
       "      <td>Economy Class</td>\n",
       "      <td>November 2022</td>\n",
       "      <td>5.0</td>\n",
       "      <td>5.0</td>\n",
       "      <td>3.0</td>\n",
       "      <td>5.0</td>\n",
       "      <td>5.0</td>\n",
       "      <td>yes</td>\n",
       "      <td>1</td>\n",
       "    </tr>\n",
       "    <tr>\n",
       "      <th>133</th>\n",
       "      <td>133</td>\n",
       "      <td>\"One of the best airline apps I have tried so ...</td>\n",
       "      <td>26th October 2022</td>\n",
       "      <td>True</td>\n",
       "      <td>Great airline! I fly regularly with Aegean Ai...</td>\n",
       "      <td>Solo Leisure</td>\n",
       "      <td>Economy Class</td>\n",
       "      <td>October 2022</td>\n",
       "      <td>4.0</td>\n",
       "      <td>5.0</td>\n",
       "      <td>4.0</td>\n",
       "      <td>5.0</td>\n",
       "      <td>5.0</td>\n",
       "      <td>yes</td>\n",
       "      <td>1</td>\n",
       "    </tr>\n",
       "    <tr>\n",
       "      <th>141</th>\n",
       "      <td>141</td>\n",
       "      <td>\"The best airline in Europe\"</td>\n",
       "      <td>18th September 2022</td>\n",
       "      <td>True</td>\n",
       "      <td>The best airline in Europe, professional cab...</td>\n",
       "      <td>Solo Leisure</td>\n",
       "      <td>Economy Class</td>\n",
       "      <td>September 2022</td>\n",
       "      <td>5.0</td>\n",
       "      <td>5.0</td>\n",
       "      <td>5.0</td>\n",
       "      <td>5.0</td>\n",
       "      <td>5.0</td>\n",
       "      <td>yes</td>\n",
       "      <td>1</td>\n",
       "    </tr>\n",
       "    <tr>\n",
       "      <th>147</th>\n",
       "      <td>147</td>\n",
       "      <td>\"Aegean exceeded my expectations\"</td>\n",
       "      <td>18th August 2022</td>\n",
       "      <td>True</td>\n",
       "      <td>Aegean exceeded my expectations. Didn't expe...</td>\n",
       "      <td>Solo Leisure</td>\n",
       "      <td>Economy Class</td>\n",
       "      <td>June 2022</td>\n",
       "      <td>5.0</td>\n",
       "      <td>5.0</td>\n",
       "      <td>5.0</td>\n",
       "      <td>5.0</td>\n",
       "      <td>5.0</td>\n",
       "      <td>yes</td>\n",
       "      <td>1</td>\n",
       "    </tr>\n",
       "    <tr>\n",
       "      <th>149</th>\n",
       "      <td>149</td>\n",
       "      <td>\"great flight and highly recommended\"</td>\n",
       "      <td>11th August 2022</td>\n",
       "      <td>False</td>\n",
       "      <td>Smooth check- in procedure at a very busy At...</td>\n",
       "      <td>Business</td>\n",
       "      <td>Economy Class</td>\n",
       "      <td>August 2022</td>\n",
       "      <td>4.0</td>\n",
       "      <td>5.0</td>\n",
       "      <td>5.0</td>\n",
       "      <td>5.0</td>\n",
       "      <td>5.0</td>\n",
       "      <td>yes</td>\n",
       "      <td>1</td>\n",
       "    </tr>\n",
       "  </tbody>\n",
       "</table>\n",
       "</div>"
      ],
      "text/plain": [
       "     Unnamed: 0                                       Review_Title  \\\n",
       "15           15                      \"Flight was very comfortable\"   \n",
       "31           31                        \"Clean and fresh aircraft \"   \n",
       "43           43                      Adria Airways customer review   \n",
       "51           51                      Adria Airways customer review   \n",
       "113         113                \"Please keep up the excellent work\"   \n",
       "130         130                          \"professional cabin crew\"   \n",
       "133         133  \"One of the best airline apps I have tried so ...   \n",
       "141         141                       \"The best airline in Europe\"   \n",
       "147         147                  \"Aegean exceeded my expectations\"   \n",
       "149         149              \"great flight and highly recommended\"   \n",
       "\n",
       "             Review Date  Verified  \\\n",
       "15          4th May 2018      True   \n",
       "31        29th July 2016     False   \n",
       "43      5th January 2015     False   \n",
       "51      6th January 2014     False   \n",
       "113      26th April 2023      True   \n",
       "130   13th November 2022      True   \n",
       "133    26th October 2022      True   \n",
       "141  18th September 2022      True   \n",
       "147     18th August 2022      True   \n",
       "149     11th August 2022     False   \n",
       "\n",
       "                                                Review Type Of Traveller  \\\n",
       "15     Frankfurt to Ljubljana. Flight was very comf...          Business   \n",
       "31     Tallinn to Stockholm with Adria Airways. Cle...      Solo Leisure   \n",
       "43   Two short hops ZRH-LJU and LJU-VIE. Very fast ...               NaN   \n",
       "51   Flights from LJU to ZRH and back all on time. ...               NaN   \n",
       "113    Aegean Airlines will remain always my first ...      Solo Leisure   \n",
       "130   Best Airline in Europe, professional cabin cr...      Solo Leisure   \n",
       "133   Great airline! I fly regularly with Aegean Ai...      Solo Leisure   \n",
       "141    The best airline in Europe, professional cab...      Solo Leisure   \n",
       "147    Aegean exceeded my expectations. Didn't expe...      Solo Leisure   \n",
       "149    Smooth check- in procedure at a very busy At...          Business   \n",
       "\n",
       "          Seat Type      Date Flown  Seat Comfort  Cabin Staff Service  \\\n",
       "15    Economy Class      April 2018           5.0                  5.0   \n",
       "31    Economy Class       July 2016           5.0                  5.0   \n",
       "43   Business Class             NaN           4.0                  5.0   \n",
       "51    Economy Class             NaN           5.0                  5.0   \n",
       "113   Economy Class      April 2023           5.0                  5.0   \n",
       "130   Economy Class   November 2022           5.0                  5.0   \n",
       "133   Economy Class    October 2022           4.0                  5.0   \n",
       "141   Economy Class  September 2022           5.0                  5.0   \n",
       "147   Economy Class       June 2022           5.0                  5.0   \n",
       "149   Economy Class     August 2022           4.0                  5.0   \n",
       "\n",
       "     Food & Beverages  Ground Service  Value For Money Recommended  \\\n",
       "15                5.0             5.0              5.0         yes   \n",
       "31                5.0             5.0              5.0         yes   \n",
       "43                4.0             NaN              5.0         yes   \n",
       "51                4.0             NaN              4.0         yes   \n",
       "113               5.0             5.0              5.0         yes   \n",
       "130               3.0             5.0              5.0         yes   \n",
       "133               4.0             5.0              5.0         yes   \n",
       "141               5.0             5.0              5.0         yes   \n",
       "147               5.0             5.0              5.0         yes   \n",
       "149               5.0             5.0              5.0         yes   \n",
       "\n",
       "     how_was_the_flight  \n",
       "15                    1  \n",
       "31                    1  \n",
       "43                    1  \n",
       "51                    1  \n",
       "113                   1  \n",
       "130                   1  \n",
       "133                   1  \n",
       "141                   1  \n",
       "147                   1  \n",
       "149                   1  "
      ]
     },
     "execution_count": 21,
     "metadata": {},
     "output_type": "execute_result"
    }
   ],
   "source": [
    "reviews[(reviews['Recommended'] == 'yes') & (reviews['how_was_the_flight'] == 1)].head(10)"
   ]
  },
  {
   "cell_type": "markdown",
   "id": "daf3449c",
   "metadata": {
    "papermill": {
     "duration": 0.021303,
     "end_time": "2023-08-11T11:13:13.438239",
     "exception": false,
     "start_time": "2023-08-11T11:13:13.416936",
     "status": "completed"
    },
    "tags": []
   },
   "source": [
    "It seems, that there is something happened when they submit their reviews. These are clearly good reviews! But we don't know exactly how they rate the company? Maybe it was 3 or it was 4 who knows? Let's drop the rows!"
   ]
  },
  {
   "cell_type": "code",
   "execution_count": 22,
   "id": "f1ae7e71",
   "metadata": {
    "execution": {
     "iopub.execute_input": "2023-08-11T11:13:13.486438Z",
     "iopub.status.busy": "2023-08-11T11:13:13.486011Z",
     "iopub.status.idle": "2023-08-11T11:13:13.498583Z",
     "shell.execute_reply": "2023-08-11T11:13:13.497285Z"
    },
    "papermill": {
     "duration": 0.04031,
     "end_time": "2023-08-11T11:13:13.500883",
     "exception": false,
     "start_time": "2023-08-11T11:13:13.460573",
     "status": "completed"
    },
    "tags": []
   },
   "outputs": [],
   "source": [
    "i = reviews[(reviews['Recommended'] == 'yes') & (reviews['how_was_the_flight'] == 1)].index\n",
    "reviews = reviews.drop(i)"
   ]
  },
  {
   "cell_type": "code",
   "execution_count": 23,
   "id": "7cf90686",
   "metadata": {
    "execution": {
     "iopub.execute_input": "2023-08-11T11:13:13.549150Z",
     "iopub.status.busy": "2023-08-11T11:13:13.547830Z",
     "iopub.status.idle": "2023-08-11T11:13:13.891500Z",
     "shell.execute_reply": "2023-08-11T11:13:13.890289Z"
    },
    "papermill": {
     "duration": 0.371339,
     "end_time": "2023-08-11T11:13:13.894194",
     "exception": false,
     "start_time": "2023-08-11T11:13:13.522855",
     "status": "completed"
    },
    "tags": []
   },
   "outputs": [
    {
     "data": {
      "text/plain": [
       "<Axes: xlabel='Recommended', ylabel='count'>"
      ]
     },
     "execution_count": 23,
     "metadata": {},
     "output_type": "execute_result"
    },
    {
     "data": {
      "image/png": "[encoded data removed]",
      "text/plain": [
       "<Figure size 1000x400 with 1 Axes>"
      ]
     },
     "metadata": {},
     "output_type": "display_data"
    }
   ],
   "source": [
    "#Let's plot the final results with the same graph!\n",
    "sns.set_theme(style = 'darkgrid', palette = 'pastel')\n",
    "plt.figure(figsize = (10, 4))\n",
    "sns.countplot(data = reviews, x = 'Recommended', hue = 'how_was_the_flight')"
   ]
  },
  {
   "cell_type": "code",
   "execution_count": 24,
   "id": "db184245",
   "metadata": {
    "execution": {
     "iopub.execute_input": "2023-08-11T11:13:13.941305Z",
     "iopub.status.busy": "2023-08-11T11:13:13.940234Z",
     "iopub.status.idle": "2023-08-11T11:13:14.918609Z",
     "shell.execute_reply": "2023-08-11T11:13:14.917499Z"
    },
    "papermill": {
     "duration": 1.005423,
     "end_time": "2023-08-11T11:13:14.921822",
     "exception": false,
     "start_time": "2023-08-11T11:13:13.916399",
     "status": "completed"
    },
    "tags": []
   },
   "outputs": [
    {
     "data": {
      "text/plain": [
       "<Axes: xlabel='Seat Type', ylabel='how_was_the_flight'>"
      ]
     },
     "execution_count": 24,
     "metadata": {},
     "output_type": "execute_result"
    },
    {
     "data": {
      "image/png": "[encoded data removed]",
      "text/plain": [
       "<Figure size 1500x500 with 1 Axes>"
      ]
     },
     "metadata": {},
     "output_type": "display_data"
    }
   ],
   "source": [
    "sns.set_theme(style = 'darkgrid', palette = 'pastel')\n",
    "plt.figure(figsize = (15, 5))\n",
    "plt.yticks([0,1,2,3,4,5])\n",
    "sns.lineplot(data = reviews, x = 'Seat Type', y = 'how_was_the_flight', hue = 'Type Of Traveller')"
   ]
  },
  {
   "cell_type": "markdown",
   "id": "90451763",
   "metadata": {
    "papermill": {
     "duration": 0.023984,
     "end_time": "2023-08-11T11:13:14.970237",
     "exception": false,
     "start_time": "2023-08-11T11:13:14.946253",
     "status": "completed"
    },
    "tags": []
   },
   "source": [
    "It seems that Business Class and First Class were pretty satisfied of their flights. So, 'Seat Type' attribute may very important for our model! Lastly, let's look at 'Verified' column closely!"
   ]
  },
  {
   "cell_type": "code",
   "execution_count": 25,
   "id": "cf7c525e",
   "metadata": {
    "execution": {
     "iopub.execute_input": "2023-08-11T11:13:15.024431Z",
     "iopub.status.busy": "2023-08-11T11:13:15.024003Z",
     "iopub.status.idle": "2023-08-11T11:13:15.357660Z",
     "shell.execute_reply": "2023-08-11T11:13:15.356294Z"
    },
    "papermill": {
     "duration": 0.365419,
     "end_time": "2023-08-11T11:13:15.360283",
     "exception": false,
     "start_time": "2023-08-11T11:13:14.994864",
     "status": "completed"
    },
    "tags": []
   },
   "outputs": [
    {
     "data": {
      "text/plain": [
       "<Axes: xlabel='Verified', ylabel='how_was_the_flight'>"
      ]
     },
     "execution_count": 25,
     "metadata": {},
     "output_type": "execute_result"
    },
    {
     "data": {
      "image/png": "[encoded data removed]",
      "text/plain": [
       "<Figure size 640x480 with 1 Axes>"
      ]
     },
     "metadata": {},
     "output_type": "display_data"
    }
   ],
   "source": [
    "reviews['Verified'] = reviews['Verified'].astype(int)\n",
    "sns.set_theme(style = 'darkgrid', palette = 'pastel')\n",
    "sns.violinplot(data=reviews, x = 'Verified', y = 'how_was_the_flight')"
   ]
  },
  {
   "cell_type": "markdown",
   "id": "76035e84",
   "metadata": {
    "papermill": {
     "duration": 0.025017,
     "end_time": "2023-08-11T11:13:15.411395",
     "exception": false,
     "start_time": "2023-08-11T11:13:15.386378",
     "status": "completed"
    },
    "tags": []
   },
   "source": [
    "Whether reviews verified or not, it seems that they are equally distributed. So, we're not going to use this column as feature."
   ]
  },
  {
   "cell_type": "markdown",
   "id": "c21ceb35",
   "metadata": {
    "papermill": {
     "duration": 0.025218,
     "end_time": "2023-08-11T11:13:15.461625",
     "exception": false,
     "start_time": "2023-08-11T11:13:15.436407",
     "status": "completed"
    },
    "tags": []
   },
   "source": [
    "We're also not going to use the 'Review' column as feature, because if we you both 'Review' and 'Review' column as features (also other columns) it would be very complex model. But, remember! Our intention was to create the simplest and the most accurate model!"
   ]
  },
  {
   "cell_type": "code",
   "execution_count": 26,
   "id": "0ee2def8",
   "metadata": {
    "execution": {
     "iopub.execute_input": "2023-08-11T11:13:15.514557Z",
     "iopub.status.busy": "2023-08-11T11:13:15.513439Z",
     "iopub.status.idle": "2023-08-11T11:13:15.521022Z",
     "shell.execute_reply": "2023-08-11T11:13:15.520122Z"
    },
    "papermill": {
     "duration": 0.036372,
     "end_time": "2023-08-11T11:13:15.523283",
     "exception": false,
     "start_time": "2023-08-11T11:13:15.486911",
     "status": "completed"
    },
    "tags": []
   },
   "outputs": [],
   "source": [
    "reviews = reviews.drop('Review', axis = 1)"
   ]
  },
  {
   "cell_type": "markdown",
   "id": "f7b87ff8",
   "metadata": {
    "execution": {
     "iopub.execute_input": "2023-08-09T21:59:53.112660Z",
     "iopub.status.busy": "2023-08-09T21:59:53.112410Z",
     "iopub.status.idle": "2023-08-09T21:59:53.124387Z",
     "shell.execute_reply": "2023-08-09T21:59:53.123203Z",
     "shell.execute_reply.started": "2023-08-09T21:59:53.112635Z"
    },
    "papermill": {
     "duration": 0.025011,
     "end_time": "2023-08-11T11:13:15.573176",
     "exception": false,
     "start_time": "2023-08-11T11:13:15.548165",
     "status": "completed"
    },
    "tags": []
   },
   "source": [
    "It's time to do something with 'Review Title' column, which can be very important for our model. We're going to use **nltk** for this purpose. \n",
    "\n",
    "**Note: nltk is a powerful library for NLP(natural language processing).**"
   ]
  },
  {
   "cell_type": "code",
   "execution_count": 27,
   "id": "671dd5aa",
   "metadata": {
    "execution": {
     "iopub.execute_input": "2023-08-11T11:13:15.627763Z",
     "iopub.status.busy": "2023-08-11T11:13:15.626687Z",
     "iopub.status.idle": "2023-08-11T11:13:23.090592Z",
     "shell.execute_reply": "2023-08-11T11:13:23.089417Z"
    },
    "papermill": {
     "duration": 7.493515,
     "end_time": "2023-08-11T11:13:23.093389",
     "exception": false,
     "start_time": "2023-08-11T11:13:15.599874",
     "status": "completed"
    },
    "tags": []
   },
   "outputs": [],
   "source": [
    "#Lowering all the letters and then saving it in the new column(Review Title).\n",
    "\n",
    "reviews['Review Title'] = reviews['Review_Title'].apply(lambda x: x.lower())\n",
    "\n",
    "#Removing all punctuation marks.\n",
    "\n",
    "reviews['Review Title'] = reviews['Review Title'].replace(r'[^\\w\\s\\d+]', '', regex = True)\n",
    "\n",
    "#Tokenizing the titles.\n",
    "\n",
    "reviews['Review_Title_Tokenized'] = reviews['Review Title'].apply(lambda x: word_tokenize(x))\n",
    "\n",
    "#Removing the stopwords.\n",
    "\n",
    "stopwords = set(stopwords.words('english'))\n",
    "reviews['Review_Title_Tokenized'] = reviews['Review_Title_Tokenized'].apply(lambda x: [word for word in x if word not in stopwords]) \n",
    "\n",
    "#Pos tagging words. (for more info check this: https://en.wikipedia.org/wiki/Part-of-speech_tagging)\n",
    "\n",
    "reviews['Title_pos_tag'] = reviews['Review_Title_Tokenized'].apply(lambda x: nltk.pos_tag(x))\n",
    "\n",
    "#It is a function for converting pos tag into wordnet tags.\n",
    "def to_wordnet_pos(tag):\n",
    "    if tag.startswith('J'):\n",
    "        return wordnet.ADJ\n",
    "    elif tag.startswith('N'):\n",
    "        return wordnet.NOUN\n",
    "    elif tag.startswith('R'):\n",
    "        return wordnet.ADV\n",
    "    elif tag.startswith('V'):\n",
    "        return wordnet.VERB\n",
    "    else:\n",
    "        return None\n",
    "reviews['Title_wordnet_tags'] = reviews['Title_pos_tag'].apply(lambda x: [(word, to_wordnet_pos(tag)) for (word, tag) in x])\n",
    "\n",
    "#Lemmatizing the words. (if you don't know what is lemmatizing check this: https://en.wikipedia.org/wiki/Lemmatisation)\n",
    "\n",
    "lemmatizer = WordNetLemmatizer()\n",
    "reviews['Title_lemmatized'] = reviews['Title_wordnet_tags'].apply(lambda x: [lemmatizer.lemmatize(word, tag) if tag is not None else \n",
    "                                                                             word for word, tag in x])\n",
    "\n",
    "#Let's put it together.\n",
    "\n",
    "reviews['title_filtered'] = reviews['Title_lemmatized'].apply(lambda x: ' '.join(x))"
   ]
  },
  {
   "cell_type": "code",
   "execution_count": 28,
   "id": "269f5837",
   "metadata": {
    "execution": {
     "iopub.execute_input": "2023-08-11T11:13:23.145590Z",
     "iopub.status.busy": "2023-08-11T11:13:23.145224Z",
     "iopub.status.idle": "2023-08-11T11:13:23.182284Z",
     "shell.execute_reply": "2023-08-11T11:13:23.181130Z"
    },
    "papermill": {
     "duration": 0.06626,
     "end_time": "2023-08-11T11:13:23.185023",
     "exception": false,
     "start_time": "2023-08-11T11:13:23.118763",
     "status": "completed"
    },
    "tags": []
   },
   "outputs": [
    {
     "data": {
      "text/html": [
       "<div>\n",
       "<style scoped>\n",
       "    .dataframe tbody tr th:only-of-type {\n",
       "        vertical-align: middle;\n",
       "    }\n",
       "\n",
       "    .dataframe tbody tr th {\n",
       "        vertical-align: top;\n",
       "    }\n",
       "\n",
       "    .dataframe thead th {\n",
       "        text-align: right;\n",
       "    }\n",
       "</style>\n",
       "<table border=\"1\" class=\"dataframe\">\n",
       "  <thead>\n",
       "    <tr style=\"text-align: right;\">\n",
       "      <th></th>\n",
       "      <th>Unnamed: 0</th>\n",
       "      <th>Review_Title</th>\n",
       "      <th>Review Date</th>\n",
       "      <th>Verified</th>\n",
       "      <th>Type Of Traveller</th>\n",
       "      <th>Seat Type</th>\n",
       "      <th>Date Flown</th>\n",
       "      <th>Seat Comfort</th>\n",
       "      <th>Cabin Staff Service</th>\n",
       "      <th>Food &amp; Beverages</th>\n",
       "      <th>Ground Service</th>\n",
       "      <th>Value For Money</th>\n",
       "      <th>Recommended</th>\n",
       "      <th>how_was_the_flight</th>\n",
       "      <th>Review Title</th>\n",
       "      <th>Review_Title_Tokenized</th>\n",
       "      <th>Title_pos_tag</th>\n",
       "      <th>Title_wordnet_tags</th>\n",
       "      <th>Title_lemmatized</th>\n",
       "      <th>title_filtered</th>\n",
       "    </tr>\n",
       "  </thead>\n",
       "  <tbody>\n",
       "    <tr>\n",
       "      <th>0</th>\n",
       "      <td>0</td>\n",
       "      <td>\"pretty decent airline\"</td>\n",
       "      <td>11th November 2019</td>\n",
       "      <td>1</td>\n",
       "      <td>Solo Leisure</td>\n",
       "      <td>Economy Class</td>\n",
       "      <td>November 2019</td>\n",
       "      <td>4.0</td>\n",
       "      <td>5.0</td>\n",
       "      <td>4.0</td>\n",
       "      <td>4.0</td>\n",
       "      <td>3.0</td>\n",
       "      <td>yes</td>\n",
       "      <td>4</td>\n",
       "      <td>pretty decent airline</td>\n",
       "      <td>[pretty, decent, airline]</td>\n",
       "      <td>[(pretty, RB), (decent, JJ), (airline, NN)]</td>\n",
       "      <td>[(pretty, r), (decent, a), (airline, n)]</td>\n",
       "      <td>[pretty, decent, airline]</td>\n",
       "      <td>pretty decent airline</td>\n",
       "    </tr>\n",
       "    <tr>\n",
       "      <th>1</th>\n",
       "      <td>1</td>\n",
       "      <td>\"Not a good airline\"</td>\n",
       "      <td>25th June 2019</td>\n",
       "      <td>1</td>\n",
       "      <td>Solo Leisure</td>\n",
       "      <td>Economy Class</td>\n",
       "      <td>June 2019</td>\n",
       "      <td>2.0</td>\n",
       "      <td>2.0</td>\n",
       "      <td>1.0</td>\n",
       "      <td>1.0</td>\n",
       "      <td>2.0</td>\n",
       "      <td>no</td>\n",
       "      <td>1</td>\n",
       "      <td>not a good airline</td>\n",
       "      <td>[good, airline]</td>\n",
       "      <td>[(good, JJ), (airline, NN)]</td>\n",
       "      <td>[(good, a), (airline, n)]</td>\n",
       "      <td>[good, airline]</td>\n",
       "      <td>good airline</td>\n",
       "    </tr>\n",
       "    <tr>\n",
       "      <th>2</th>\n",
       "      <td>2</td>\n",
       "      <td>\"flight was fortunately short\"</td>\n",
       "      <td>25th June 2019</td>\n",
       "      <td>1</td>\n",
       "      <td>Solo Leisure</td>\n",
       "      <td>Economy Class</td>\n",
       "      <td>June 2019</td>\n",
       "      <td>2.0</td>\n",
       "      <td>1.0</td>\n",
       "      <td>1.0</td>\n",
       "      <td>1.0</td>\n",
       "      <td>2.0</td>\n",
       "      <td>no</td>\n",
       "      <td>1</td>\n",
       "      <td>flight was fortunately short</td>\n",
       "      <td>[flight, fortunately, short]</td>\n",
       "      <td>[(flight, NN), (fortunately, RB), (short, JJ)]</td>\n",
       "      <td>[(flight, n), (fortunately, r), (short, a)]</td>\n",
       "      <td>[flight, fortunately, short]</td>\n",
       "      <td>flight fortunately short</td>\n",
       "    </tr>\n",
       "    <tr>\n",
       "      <th>4</th>\n",
       "      <td>4</td>\n",
       "      <td>\"it ruined our last days of holidays\"</td>\n",
       "      <td>24th September 2019</td>\n",
       "      <td>1</td>\n",
       "      <td>Couple Leisure</td>\n",
       "      <td>Economy Class</td>\n",
       "      <td>September 2019</td>\n",
       "      <td>1.0</td>\n",
       "      <td>1.0</td>\n",
       "      <td>1.0</td>\n",
       "      <td>1.0</td>\n",
       "      <td>1.0</td>\n",
       "      <td>no</td>\n",
       "      <td>1</td>\n",
       "      <td>it ruined our last days of holidays</td>\n",
       "      <td>[ruined, last, days, holidays]</td>\n",
       "      <td>[(ruined, VBN), (last, JJ), (days, NNS), (holi...</td>\n",
       "      <td>[(ruined, v), (last, a), (days, n), (holidays,...</td>\n",
       "      <td>[ruin, last, day, holiday]</td>\n",
       "      <td>ruin last day holiday</td>\n",
       "    </tr>\n",
       "    <tr>\n",
       "      <th>5</th>\n",
       "      <td>5</td>\n",
       "      <td>\"Had very bad experience\"</td>\n",
       "      <td>17th September 2019</td>\n",
       "      <td>1</td>\n",
       "      <td>Couple Leisure</td>\n",
       "      <td>Economy Class</td>\n",
       "      <td>September 2019</td>\n",
       "      <td>1.0</td>\n",
       "      <td>1.0</td>\n",
       "      <td>1.0</td>\n",
       "      <td>1.0</td>\n",
       "      <td>1.0</td>\n",
       "      <td>no</td>\n",
       "      <td>1</td>\n",
       "      <td>had very bad experience</td>\n",
       "      <td>[bad, experience]</td>\n",
       "      <td>[(bad, JJ), (experience, NN)]</td>\n",
       "      <td>[(bad, a), (experience, n)]</td>\n",
       "      <td>[bad, experience]</td>\n",
       "      <td>bad experience</td>\n",
       "    </tr>\n",
       "  </tbody>\n",
       "</table>\n",
       "</div>"
      ],
      "text/plain": [
       "   Unnamed: 0                           Review_Title          Review Date  \\\n",
       "0           0                \"pretty decent airline\"   11th November 2019   \n",
       "1           1                   \"Not a good airline\"       25th June 2019   \n",
       "2           2         \"flight was fortunately short\"       25th June 2019   \n",
       "4           4  \"it ruined our last days of holidays\"  24th September 2019   \n",
       "5           5              \"Had very bad experience\"  17th September 2019   \n",
       "\n",
       "   Verified Type Of Traveller      Seat Type      Date Flown  Seat Comfort  \\\n",
       "0         1      Solo Leisure  Economy Class   November 2019           4.0   \n",
       "1         1      Solo Leisure  Economy Class       June 2019           2.0   \n",
       "2         1      Solo Leisure  Economy Class       June 2019           2.0   \n",
       "4         1    Couple Leisure  Economy Class  September 2019           1.0   \n",
       "5         1    Couple Leisure  Economy Class  September 2019           1.0   \n",
       "\n",
       "   Cabin Staff Service  Food & Beverages  Ground Service  Value For Money  \\\n",
       "0                  5.0               4.0             4.0              3.0   \n",
       "1                  2.0               1.0             1.0              2.0   \n",
       "2                  1.0               1.0             1.0              2.0   \n",
       "4                  1.0               1.0             1.0              1.0   \n",
       "5                  1.0               1.0             1.0              1.0   \n",
       "\n",
       "  Recommended  how_was_the_flight                         Review Title  \\\n",
       "0         yes                   4                pretty decent airline   \n",
       "1          no                   1                   not a good airline   \n",
       "2          no                   1         flight was fortunately short   \n",
       "4          no                   1  it ruined our last days of holidays   \n",
       "5          no                   1              had very bad experience   \n",
       "\n",
       "           Review_Title_Tokenized  \\\n",
       "0       [pretty, decent, airline]   \n",
       "1                 [good, airline]   \n",
       "2    [flight, fortunately, short]   \n",
       "4  [ruined, last, days, holidays]   \n",
       "5               [bad, experience]   \n",
       "\n",
       "                                       Title_pos_tag  \\\n",
       "0        [(pretty, RB), (decent, JJ), (airline, NN)]   \n",
       "1                        [(good, JJ), (airline, NN)]   \n",
       "2     [(flight, NN), (fortunately, RB), (short, JJ)]   \n",
       "4  [(ruined, VBN), (last, JJ), (days, NNS), (holi...   \n",
       "5                      [(bad, JJ), (experience, NN)]   \n",
       "\n",
       "                                  Title_wordnet_tags  \\\n",
       "0           [(pretty, r), (decent, a), (airline, n)]   \n",
       "1                          [(good, a), (airline, n)]   \n",
       "2        [(flight, n), (fortunately, r), (short, a)]   \n",
       "4  [(ruined, v), (last, a), (days, n), (holidays,...   \n",
       "5                        [(bad, a), (experience, n)]   \n",
       "\n",
       "               Title_lemmatized            title_filtered  \n",
       "0     [pretty, decent, airline]     pretty decent airline  \n",
       "1               [good, airline]              good airline  \n",
       "2  [flight, fortunately, short]  flight fortunately short  \n",
       "4    [ruin, last, day, holiday]     ruin last day holiday  \n",
       "5             [bad, experience]            bad experience  "
      ]
     },
     "execution_count": 28,
     "metadata": {},
     "output_type": "execute_result"
    }
   ],
   "source": [
    "reviews.head(5)"
   ]
  },
  {
   "cell_type": "markdown",
   "id": "3f2114ac",
   "metadata": {
    "papermill": {
     "duration": 0.026021,
     "end_time": "2023-08-11T11:13:23.243422",
     "exception": false,
     "start_time": "2023-08-11T11:13:23.217401",
     "status": "completed"
    },
    "tags": []
   },
   "source": [
    "It looks messy! Let's clean this up a little bit!"
   ]
  },
  {
   "cell_type": "code",
   "execution_count": 29,
   "id": "025df6d7",
   "metadata": {
    "execution": {
     "iopub.execute_input": "2023-08-11T11:13:23.296084Z",
     "iopub.status.busy": "2023-08-11T11:13:23.295719Z",
     "iopub.status.idle": "2023-08-11T11:13:23.333520Z",
     "shell.execute_reply": "2023-08-11T11:13:23.332731Z"
    },
    "papermill": {
     "duration": 0.066088,
     "end_time": "2023-08-11T11:13:23.335640",
     "exception": false,
     "start_time": "2023-08-11T11:13:23.269552",
     "status": "completed"
    },
    "tags": []
   },
   "outputs": [
    {
     "name": "stdout",
     "output_type": "stream",
     "text": [
      "<class 'pandas.core.frame.DataFrame'>\n",
      "Int64Index: 12713 entries, 0 to 23169\n",
      "Data columns (total 20 columns):\n",
      " #   Column                  Non-Null Count  Dtype  \n",
      "---  ------                  --------------  -----  \n",
      " 0   Unnamed: 0              12713 non-null  int64  \n",
      " 1   Review_Title            12713 non-null  object \n",
      " 2   Review Date             12713 non-null  object \n",
      " 3   Verified                12713 non-null  int64  \n",
      " 4   Type Of Traveller       11532 non-null  object \n",
      " 5   Seat Type               12703 non-null  object \n",
      " 6   Date Flown              11525 non-null  object \n",
      " 7   Seat Comfort            12712 non-null  float64\n",
      " 8   Cabin Staff Service     12712 non-null  float64\n",
      " 9   Food & Beverages        12713 non-null  float64\n",
      " 10  Ground Service          11532 non-null  float64\n",
      " 11  Value For Money         12713 non-null  float64\n",
      " 12  Recommended             12713 non-null  object \n",
      " 13  how_was_the_flight      12713 non-null  int64  \n",
      " 14  Review Title            12713 non-null  object \n",
      " 15  Review_Title_Tokenized  12713 non-null  object \n",
      " 16  Title_pos_tag           12713 non-null  object \n",
      " 17  Title_wordnet_tags      12713 non-null  object \n",
      " 18  Title_lemmatized        12713 non-null  object \n",
      " 19  title_filtered          12713 non-null  object \n",
      "dtypes: float64(5), int64(3), object(12)\n",
      "memory usage: 2.0+ MB\n"
     ]
    }
   ],
   "source": [
    "reviews.info()"
   ]
  },
  {
   "cell_type": "code",
   "execution_count": 30,
   "id": "57ed9706",
   "metadata": {
    "execution": {
     "iopub.execute_input": "2023-08-11T11:13:23.389559Z",
     "iopub.status.busy": "2023-08-11T11:13:23.388368Z",
     "iopub.status.idle": "2023-08-11T11:13:23.396055Z",
     "shell.execute_reply": "2023-08-11T11:13:23.395048Z"
    },
    "papermill": {
     "duration": 0.037138,
     "end_time": "2023-08-11T11:13:23.398422",
     "exception": false,
     "start_time": "2023-08-11T11:13:23.361284",
     "status": "completed"
    },
    "tags": []
   },
   "outputs": [],
   "source": [
    "#Removing unnecessary columns.\n",
    "reviews = reviews.drop(['Review_Title','Review Date', 'Date Flown', 'Verified', 'Review Title', 'Review_Title_Tokenized', 'Title_pos_tag', \n",
    "                        'Title_wordnet_tags', 'Title_lemmatized', 'Type Of Traveller', 'Unnamed: 0'], axis = 1)"
   ]
  },
  {
   "cell_type": "code",
   "execution_count": 31,
   "id": "085a0127",
   "metadata": {
    "execution": {
     "iopub.execute_input": "2023-08-11T11:13:23.452115Z",
     "iopub.status.busy": "2023-08-11T11:13:23.451544Z",
     "iopub.status.idle": "2023-08-11T11:13:23.466521Z",
     "shell.execute_reply": "2023-08-11T11:13:23.465451Z"
    },
    "papermill": {
     "duration": 0.044831,
     "end_time": "2023-08-11T11:13:23.468741",
     "exception": false,
     "start_time": "2023-08-11T11:13:23.423910",
     "status": "completed"
    },
    "tags": []
   },
   "outputs": [
    {
     "data": {
      "text/html": [
       "<div>\n",
       "<style scoped>\n",
       "    .dataframe tbody tr th:only-of-type {\n",
       "        vertical-align: middle;\n",
       "    }\n",
       "\n",
       "    .dataframe tbody tr th {\n",
       "        vertical-align: top;\n",
       "    }\n",
       "\n",
       "    .dataframe thead th {\n",
       "        text-align: right;\n",
       "    }\n",
       "</style>\n",
       "<table border=\"1\" class=\"dataframe\">\n",
       "  <thead>\n",
       "    <tr style=\"text-align: right;\">\n",
       "      <th></th>\n",
       "      <th>Seat Type</th>\n",
       "      <th>Seat Comfort</th>\n",
       "      <th>Cabin Staff Service</th>\n",
       "      <th>Food &amp; Beverages</th>\n",
       "      <th>Ground Service</th>\n",
       "      <th>Value For Money</th>\n",
       "      <th>Recommended</th>\n",
       "      <th>how_was_the_flight</th>\n",
       "      <th>title_filtered</th>\n",
       "    </tr>\n",
       "  </thead>\n",
       "  <tbody>\n",
       "    <tr>\n",
       "      <th>0</th>\n",
       "      <td>Economy Class</td>\n",
       "      <td>4.0</td>\n",
       "      <td>5.0</td>\n",
       "      <td>4.0</td>\n",
       "      <td>4.0</td>\n",
       "      <td>3.0</td>\n",
       "      <td>yes</td>\n",
       "      <td>4</td>\n",
       "      <td>pretty decent airline</td>\n",
       "    </tr>\n",
       "    <tr>\n",
       "      <th>1</th>\n",
       "      <td>Economy Class</td>\n",
       "      <td>2.0</td>\n",
       "      <td>2.0</td>\n",
       "      <td>1.0</td>\n",
       "      <td>1.0</td>\n",
       "      <td>2.0</td>\n",
       "      <td>no</td>\n",
       "      <td>1</td>\n",
       "      <td>good airline</td>\n",
       "    </tr>\n",
       "    <tr>\n",
       "      <th>2</th>\n",
       "      <td>Economy Class</td>\n",
       "      <td>2.0</td>\n",
       "      <td>1.0</td>\n",
       "      <td>1.0</td>\n",
       "      <td>1.0</td>\n",
       "      <td>2.0</td>\n",
       "      <td>no</td>\n",
       "      <td>1</td>\n",
       "      <td>flight fortunately short</td>\n",
       "    </tr>\n",
       "    <tr>\n",
       "      <th>4</th>\n",
       "      <td>Economy Class</td>\n",
       "      <td>1.0</td>\n",
       "      <td>1.0</td>\n",
       "      <td>1.0</td>\n",
       "      <td>1.0</td>\n",
       "      <td>1.0</td>\n",
       "      <td>no</td>\n",
       "      <td>1</td>\n",
       "      <td>ruin last day holiday</td>\n",
       "    </tr>\n",
       "    <tr>\n",
       "      <th>5</th>\n",
       "      <td>Economy Class</td>\n",
       "      <td>1.0</td>\n",
       "      <td>1.0</td>\n",
       "      <td>1.0</td>\n",
       "      <td>1.0</td>\n",
       "      <td>1.0</td>\n",
       "      <td>no</td>\n",
       "      <td>1</td>\n",
       "      <td>bad experience</td>\n",
       "    </tr>\n",
       "  </tbody>\n",
       "</table>\n",
       "</div>"
      ],
      "text/plain": [
       "       Seat Type  Seat Comfort  Cabin Staff Service  Food & Beverages  \\\n",
       "0  Economy Class           4.0                  5.0               4.0   \n",
       "1  Economy Class           2.0                  2.0               1.0   \n",
       "2  Economy Class           2.0                  1.0               1.0   \n",
       "4  Economy Class           1.0                  1.0               1.0   \n",
       "5  Economy Class           1.0                  1.0               1.0   \n",
       "\n",
       "   Ground Service  Value For Money Recommended  how_was_the_flight  \\\n",
       "0             4.0              3.0         yes                   4   \n",
       "1             1.0              2.0          no                   1   \n",
       "2             1.0              2.0          no                   1   \n",
       "4             1.0              1.0          no                   1   \n",
       "5             1.0              1.0          no                   1   \n",
       "\n",
       "             title_filtered  \n",
       "0     pretty decent airline  \n",
       "1              good airline  \n",
       "2  flight fortunately short  \n",
       "4     ruin last day holiday  \n",
       "5            bad experience  "
      ]
     },
     "execution_count": 31,
     "metadata": {},
     "output_type": "execute_result"
    }
   ],
   "source": [
    "reviews.head()"
   ]
  },
  {
   "cell_type": "markdown",
   "id": "f2555a7a",
   "metadata": {
    "papermill": {
     "duration": 0.025278,
     "end_time": "2023-08-11T11:13:23.519784",
     "exception": false,
     "start_time": "2023-08-11T11:13:23.494506",
     "status": "completed"
    },
    "tags": []
   },
   "source": [
    "It looks pretty fine to me! \n",
    "\n",
    "One last thing, remember there are a couple features with relatively little amount of null values? It is time to fill NaN's!"
   ]
  },
  {
   "cell_type": "code",
   "execution_count": 32,
   "id": "71acf534",
   "metadata": {
    "execution": {
     "iopub.execute_input": "2023-08-11T11:13:23.574469Z",
     "iopub.status.busy": "2023-08-11T11:13:23.574082Z",
     "iopub.status.idle": "2023-08-11T11:13:23.593289Z",
     "shell.execute_reply": "2023-08-11T11:13:23.591928Z"
    },
    "papermill": {
     "duration": 0.049222,
     "end_time": "2023-08-11T11:13:23.595527",
     "exception": false,
     "start_time": "2023-08-11T11:13:23.546305",
     "status": "completed"
    },
    "tags": []
   },
   "outputs": [
    {
     "name": "stdout",
     "output_type": "stream",
     "text": [
      "<class 'pandas.core.frame.DataFrame'>\n",
      "Int64Index: 12713 entries, 0 to 23169\n",
      "Data columns (total 9 columns):\n",
      " #   Column               Non-Null Count  Dtype  \n",
      "---  ------               --------------  -----  \n",
      " 0   Seat Type            12703 non-null  object \n",
      " 1   Seat Comfort         12712 non-null  float64\n",
      " 2   Cabin Staff Service  12712 non-null  float64\n",
      " 3   Food & Beverages     12713 non-null  float64\n",
      " 4   Ground Service       11532 non-null  float64\n",
      " 5   Value For Money      12713 non-null  float64\n",
      " 6   Recommended          12713 non-null  object \n",
      " 7   how_was_the_flight   12713 non-null  int64  \n",
      " 8   title_filtered       12713 non-null  object \n",
      "dtypes: float64(5), int64(1), object(3)\n",
      "memory usage: 993.2+ KB\n"
     ]
    }
   ],
   "source": [
    "reviews.info()"
   ]
  },
  {
   "cell_type": "code",
   "execution_count": 33,
   "id": "3e8b2bf4",
   "metadata": {
    "execution": {
     "iopub.execute_input": "2023-08-11T11:13:23.651270Z",
     "iopub.status.busy": "2023-08-11T11:13:23.650664Z",
     "iopub.status.idle": "2023-08-11T11:13:23.665504Z",
     "shell.execute_reply": "2023-08-11T11:13:23.664447Z"
    },
    "papermill": {
     "duration": 0.045886,
     "end_time": "2023-08-11T11:13:23.667893",
     "exception": false,
     "start_time": "2023-08-11T11:13:23.622007",
     "status": "completed"
    },
    "tags": []
   },
   "outputs": [],
   "source": [
    "reviews['Seat Type'] = reviews['Seat Type'].fillna('Economy Class') #Since, most of the people flight in Economy Class we're going to fill  null values with this.\n",
    "reviews['Cabin Staff Service'] = reviews['Cabin Staff Service'].fillna(reviews['Cabin Staff Service'].mode())\n",
    "reviews['Seat Comfort'] = reviews['Seat Comfort'].fillna(reviews['Seat Comfort'].mode())\n",
    "\n",
    "\"\"\"\n",
    "There are more than 1000 null values for 'Ground Service' column, it is not that many, because it's very 'sensitive' feature, wrong 'fillings'\n",
    "may decrease model's performance. So, we're going to drop the rows where 'Ground Service's values is null!\n",
    "\n",
    "\"\"\"\n",
    "reviews = reviews.dropna(subset = 'Ground Service', axis = 0)"
   ]
  },
  {
   "cell_type": "code",
   "execution_count": 34,
   "id": "98c0e535",
   "metadata": {
    "execution": {
     "iopub.execute_input": "2023-08-11T11:13:23.722431Z",
     "iopub.status.busy": "2023-08-11T11:13:23.721724Z",
     "iopub.status.idle": "2023-08-11T11:13:23.740366Z",
     "shell.execute_reply": "2023-08-11T11:13:23.738800Z"
    },
    "papermill": {
     "duration": 0.04835,
     "end_time": "2023-08-11T11:13:23.742731",
     "exception": false,
     "start_time": "2023-08-11T11:13:23.694381",
     "status": "completed"
    },
    "tags": []
   },
   "outputs": [
    {
     "name": "stdout",
     "output_type": "stream",
     "text": [
      "<class 'pandas.core.frame.DataFrame'>\n",
      "Int64Index: 11532 entries, 0 to 23169\n",
      "Data columns (total 9 columns):\n",
      " #   Column               Non-Null Count  Dtype  \n",
      "---  ------               --------------  -----  \n",
      " 0   Seat Type            11532 non-null  object \n",
      " 1   Seat Comfort         11532 non-null  float64\n",
      " 2   Cabin Staff Service  11532 non-null  float64\n",
      " 3   Food & Beverages     11532 non-null  float64\n",
      " 4   Ground Service       11532 non-null  float64\n",
      " 5   Value For Money      11532 non-null  float64\n",
      " 6   Recommended          11532 non-null  object \n",
      " 7   how_was_the_flight   11532 non-null  int64  \n",
      " 8   title_filtered       11532 non-null  object \n",
      "dtypes: float64(5), int64(1), object(3)\n",
      "memory usage: 900.9+ KB\n"
     ]
    }
   ],
   "source": [
    "reviews.info()"
   ]
  },
  {
   "cell_type": "markdown",
   "id": "aa9f6a1d",
   "metadata": {
    "papermill": {
     "duration": 0.026196,
     "end_time": "2023-08-11T11:13:23.795250",
     "exception": false,
     "start_time": "2023-08-11T11:13:23.769054",
     "status": "completed"
    },
    "tags": []
   },
   "source": [
    "Perfect! There is no more null values in the dataset!"
   ]
  },
  {
   "cell_type": "markdown",
   "id": "52c731f8",
   "metadata": {
    "papermill": {
     "duration": 0.026435,
     "end_time": "2023-08-11T11:13:23.848069",
     "exception": false,
     "start_time": "2023-08-11T11:13:23.821634",
     "status": "completed"
    },
    "tags": []
   },
   "source": [
    "# Feature Engineering"
   ]
  },
  {
   "cell_type": "markdown",
   "id": "d996c1e8",
   "metadata": {
    "papermill": {
     "duration": 0.026518,
     "end_time": "2023-08-11T11:13:23.900946",
     "exception": false,
     "start_time": "2023-08-11T11:13:23.874428",
     "status": "completed"
    },
    "tags": []
   },
   "source": [
    "As you may already know, machine can only understand numbers. So, we have to convert categorical features into numbers."
   ]
  },
  {
   "cell_type": "code",
   "execution_count": 35,
   "id": "c80a1530",
   "metadata": {
    "execution": {
     "iopub.execute_input": "2023-08-11T11:13:23.956224Z",
     "iopub.status.busy": "2023-08-11T11:13:23.955837Z",
     "iopub.status.idle": "2023-08-11T11:13:23.986365Z",
     "shell.execute_reply": "2023-08-11T11:13:23.985095Z"
    },
    "papermill": {
     "duration": 0.060576,
     "end_time": "2023-08-11T11:13:23.988803",
     "exception": false,
     "start_time": "2023-08-11T11:13:23.928227",
     "status": "completed"
    },
    "tags": []
   },
   "outputs": [
    {
     "data": {
      "text/html": [
       "<div>\n",
       "<style scoped>\n",
       "    .dataframe tbody tr th:only-of-type {\n",
       "        vertical-align: middle;\n",
       "    }\n",
       "\n",
       "    .dataframe tbody tr th {\n",
       "        vertical-align: top;\n",
       "    }\n",
       "\n",
       "    .dataframe thead th {\n",
       "        text-align: right;\n",
       "    }\n",
       "</style>\n",
       "<table border=\"1\" class=\"dataframe\">\n",
       "  <thead>\n",
       "    <tr style=\"text-align: right;\">\n",
       "      <th></th>\n",
       "      <th>Seat Comfort</th>\n",
       "      <th>Cabin Staff Service</th>\n",
       "      <th>Food &amp; Beverages</th>\n",
       "      <th>Ground Service</th>\n",
       "      <th>Value For Money</th>\n",
       "      <th>Recommended</th>\n",
       "      <th>how_was_the_flight</th>\n",
       "      <th>title_filtered</th>\n",
       "      <th>Business Class</th>\n",
       "      <th>Economy Class</th>\n",
       "      <th>First Class</th>\n",
       "      <th>Premium Economy</th>\n",
       "    </tr>\n",
       "  </thead>\n",
       "  <tbody>\n",
       "    <tr>\n",
       "      <th>0</th>\n",
       "      <td>4.0</td>\n",
       "      <td>5.0</td>\n",
       "      <td>4.0</td>\n",
       "      <td>4.0</td>\n",
       "      <td>3.0</td>\n",
       "      <td>yes</td>\n",
       "      <td>4</td>\n",
       "      <td>pretty decent airline</td>\n",
       "      <td>0</td>\n",
       "      <td>1</td>\n",
       "      <td>0</td>\n",
       "      <td>0</td>\n",
       "    </tr>\n",
       "    <tr>\n",
       "      <th>1</th>\n",
       "      <td>2.0</td>\n",
       "      <td>2.0</td>\n",
       "      <td>1.0</td>\n",
       "      <td>1.0</td>\n",
       "      <td>2.0</td>\n",
       "      <td>no</td>\n",
       "      <td>1</td>\n",
       "      <td>good airline</td>\n",
       "      <td>0</td>\n",
       "      <td>1</td>\n",
       "      <td>0</td>\n",
       "      <td>0</td>\n",
       "    </tr>\n",
       "    <tr>\n",
       "      <th>2</th>\n",
       "      <td>2.0</td>\n",
       "      <td>1.0</td>\n",
       "      <td>1.0</td>\n",
       "      <td>1.0</td>\n",
       "      <td>2.0</td>\n",
       "      <td>no</td>\n",
       "      <td>1</td>\n",
       "      <td>flight fortunately short</td>\n",
       "      <td>0</td>\n",
       "      <td>1</td>\n",
       "      <td>0</td>\n",
       "      <td>0</td>\n",
       "    </tr>\n",
       "    <tr>\n",
       "      <th>3</th>\n",
       "      <td>1.0</td>\n",
       "      <td>1.0</td>\n",
       "      <td>1.0</td>\n",
       "      <td>1.0</td>\n",
       "      <td>1.0</td>\n",
       "      <td>no</td>\n",
       "      <td>1</td>\n",
       "      <td>ruin last day holiday</td>\n",
       "      <td>0</td>\n",
       "      <td>1</td>\n",
       "      <td>0</td>\n",
       "      <td>0</td>\n",
       "    </tr>\n",
       "    <tr>\n",
       "      <th>4</th>\n",
       "      <td>1.0</td>\n",
       "      <td>1.0</td>\n",
       "      <td>1.0</td>\n",
       "      <td>1.0</td>\n",
       "      <td>1.0</td>\n",
       "      <td>no</td>\n",
       "      <td>1</td>\n",
       "      <td>bad experience</td>\n",
       "      <td>0</td>\n",
       "      <td>1</td>\n",
       "      <td>0</td>\n",
       "      <td>0</td>\n",
       "    </tr>\n",
       "    <tr>\n",
       "      <th>...</th>\n",
       "      <td>...</td>\n",
       "      <td>...</td>\n",
       "      <td>...</td>\n",
       "      <td>...</td>\n",
       "      <td>...</td>\n",
       "      <td>...</td>\n",
       "      <td>...</td>\n",
       "      <td>...</td>\n",
       "      <td>...</td>\n",
       "      <td>...</td>\n",
       "      <td>...</td>\n",
       "      <td>...</td>\n",
       "    </tr>\n",
       "    <tr>\n",
       "      <th>11527</th>\n",
       "      <td>2.0</td>\n",
       "      <td>2.0</td>\n",
       "      <td>1.0</td>\n",
       "      <td>1.0</td>\n",
       "      <td>1.0</td>\n",
       "      <td>no</td>\n",
       "      <td>1</td>\n",
       "      <td>think meal include</td>\n",
       "      <td>0</td>\n",
       "      <td>1</td>\n",
       "      <td>0</td>\n",
       "      <td>0</td>\n",
       "    </tr>\n",
       "    <tr>\n",
       "      <th>11528</th>\n",
       "      <td>2.0</td>\n",
       "      <td>2.0</td>\n",
       "      <td>1.0</td>\n",
       "      <td>2.0</td>\n",
       "      <td>1.0</td>\n",
       "      <td>no</td>\n",
       "      <td>1</td>\n",
       "      <td>would refund tax</td>\n",
       "      <td>0</td>\n",
       "      <td>1</td>\n",
       "      <td>0</td>\n",
       "      <td>0</td>\n",
       "    </tr>\n",
       "    <tr>\n",
       "      <th>11529</th>\n",
       "      <td>3.0</td>\n",
       "      <td>4.0</td>\n",
       "      <td>1.0</td>\n",
       "      <td>1.0</td>\n",
       "      <td>2.0</td>\n",
       "      <td>no</td>\n",
       "      <td>1</td>\n",
       "      <td>300 saving absolutely worth</td>\n",
       "      <td>0</td>\n",
       "      <td>1</td>\n",
       "      <td>0</td>\n",
       "      <td>0</td>\n",
       "    </tr>\n",
       "    <tr>\n",
       "      <th>11530</th>\n",
       "      <td>2.0</td>\n",
       "      <td>4.0</td>\n",
       "      <td>2.0</td>\n",
       "      <td>1.0</td>\n",
       "      <td>2.0</td>\n",
       "      <td>no</td>\n",
       "      <td>2</td>\n",
       "      <td>recommend anyone</td>\n",
       "      <td>0</td>\n",
       "      <td>1</td>\n",
       "      <td>0</td>\n",
       "      <td>0</td>\n",
       "    </tr>\n",
       "    <tr>\n",
       "      <th>11531</th>\n",
       "      <td>3.0</td>\n",
       "      <td>4.0</td>\n",
       "      <td>3.0</td>\n",
       "      <td>1.0</td>\n",
       "      <td>5.0</td>\n",
       "      <td>yes</td>\n",
       "      <td>3</td>\n",
       "      <td>immaculately clean</td>\n",
       "      <td>1</td>\n",
       "      <td>0</td>\n",
       "      <td>0</td>\n",
       "      <td>0</td>\n",
       "    </tr>\n",
       "  </tbody>\n",
       "</table>\n",
       "<p>11532 rows × 12 columns</p>\n",
       "</div>"
      ],
      "text/plain": [
       "       Seat Comfort  Cabin Staff Service  Food & Beverages  Ground Service  \\\n",
       "0               4.0                  5.0               4.0             4.0   \n",
       "1               2.0                  2.0               1.0             1.0   \n",
       "2               2.0                  1.0               1.0             1.0   \n",
       "3               1.0                  1.0               1.0             1.0   \n",
       "4               1.0                  1.0               1.0             1.0   \n",
       "...             ...                  ...               ...             ...   \n",
       "11527           2.0                  2.0               1.0             1.0   \n",
       "11528           2.0                  2.0               1.0             2.0   \n",
       "11529           3.0                  4.0               1.0             1.0   \n",
       "11530           2.0                  4.0               2.0             1.0   \n",
       "11531           3.0                  4.0               3.0             1.0   \n",
       "\n",
       "       Value For Money Recommended  how_was_the_flight  \\\n",
       "0                  3.0         yes                   4   \n",
       "1                  2.0          no                   1   \n",
       "2                  2.0          no                   1   \n",
       "3                  1.0          no                   1   \n",
       "4                  1.0          no                   1   \n",
       "...                ...         ...                 ...   \n",
       "11527              1.0          no                   1   \n",
       "11528              1.0          no                   1   \n",
       "11529              2.0          no                   1   \n",
       "11530              2.0          no                   2   \n",
       "11531              5.0         yes                   3   \n",
       "\n",
       "                    title_filtered  Business Class  Economy Class  \\\n",
       "0            pretty decent airline               0              1   \n",
       "1                     good airline               0              1   \n",
       "2         flight fortunately short               0              1   \n",
       "3            ruin last day holiday               0              1   \n",
       "4                   bad experience               0              1   \n",
       "...                            ...             ...            ...   \n",
       "11527           think meal include               0              1   \n",
       "11528             would refund tax               0              1   \n",
       "11529  300 saving absolutely worth               0              1   \n",
       "11530             recommend anyone               0              1   \n",
       "11531           immaculately clean               1              0   \n",
       "\n",
       "       First Class  Premium Economy  \n",
       "0                0                0  \n",
       "1                0                0  \n",
       "2                0                0  \n",
       "3                0                0  \n",
       "4                0                0  \n",
       "...            ...              ...  \n",
       "11527            0                0  \n",
       "11528            0                0  \n",
       "11529            0                0  \n",
       "11530            0                0  \n",
       "11531            0                0  \n",
       "\n",
       "[11532 rows x 12 columns]"
      ]
     },
     "execution_count": 35,
     "metadata": {},
     "output_type": "execute_result"
    }
   ],
   "source": [
    "dummie_seat_type = pd.get_dummies(reviews['Seat Type'])\n",
    "reviews_new = pd.concat([reviews, dummie_seat_type], axis = 1)\n",
    "reviews_new = reviews_new.drop('Seat Type', axis = 1)\n",
    "reviews_new.reset_index(drop = True)"
   ]
  },
  {
   "cell_type": "code",
   "execution_count": 36,
   "id": "80aab347",
   "metadata": {
    "execution": {
     "iopub.execute_input": "2023-08-11T11:13:24.044656Z",
     "iopub.status.busy": "2023-08-11T11:13:24.044263Z",
     "iopub.status.idle": "2023-08-11T11:13:24.054550Z",
     "shell.execute_reply": "2023-08-11T11:13:24.053370Z"
    },
    "papermill": {
     "duration": 0.040492,
     "end_time": "2023-08-11T11:13:24.056694",
     "exception": false,
     "start_time": "2023-08-11T11:13:24.016202",
     "status": "completed"
    },
    "tags": []
   },
   "outputs": [],
   "source": [
    "lb_enc = LabelEncoder() #LabelEncoder helps us to convert categorical features into numbers\n",
    "reviews_new['Recommended'] = lb_enc.fit_transform(reviews_new['Recommended'])\n",
    "reviews_new['Recommended'] = reviews_new['Recommended'].astype(int)"
   ]
  },
  {
   "cell_type": "code",
   "execution_count": 37,
   "id": "9b60ae86",
   "metadata": {
    "execution": {
     "iopub.execute_input": "2023-08-11T11:13:24.112555Z",
     "iopub.status.busy": "2023-08-11T11:13:24.112199Z",
     "iopub.status.idle": "2023-08-11T11:13:24.126389Z",
     "shell.execute_reply": "2023-08-11T11:13:24.125455Z"
    },
    "papermill": {
     "duration": 0.044772,
     "end_time": "2023-08-11T11:13:24.128865",
     "exception": false,
     "start_time": "2023-08-11T11:13:24.084093",
     "status": "completed"
    },
    "tags": []
   },
   "outputs": [
    {
     "name": "stdout",
     "output_type": "stream",
     "text": [
      "<class 'pandas.core.frame.DataFrame'>\n",
      "Int64Index: 11532 entries, 0 to 23169\n",
      "Data columns (total 12 columns):\n",
      " #   Column               Non-Null Count  Dtype  \n",
      "---  ------               --------------  -----  \n",
      " 0   Seat Comfort         11532 non-null  float64\n",
      " 1   Cabin Staff Service  11532 non-null  float64\n",
      " 2   Food & Beverages     11532 non-null  float64\n",
      " 3   Ground Service       11532 non-null  float64\n",
      " 4   Value For Money      11532 non-null  float64\n",
      " 5   Recommended          11532 non-null  int64  \n",
      " 6   how_was_the_flight   11532 non-null  int64  \n",
      " 7   title_filtered       11532 non-null  object \n",
      " 8   Business Class       11532 non-null  uint8  \n",
      " 9   Economy Class        11532 non-null  uint8  \n",
      " 10  First Class          11532 non-null  uint8  \n",
      " 11  Premium Economy      11532 non-null  uint8  \n",
      "dtypes: float64(5), int64(2), object(1), uint8(4)\n",
      "memory usage: 855.9+ KB\n"
     ]
    }
   ],
   "source": [
    "reviews_new.info() "
   ]
  },
  {
   "cell_type": "markdown",
   "id": "7629b065",
   "metadata": {
    "papermill": {
     "duration": 0.027068,
     "end_time": "2023-08-11T11:13:24.183631",
     "exception": false,
     "start_time": "2023-08-11T11:13:24.156563",
     "status": "completed"
    },
    "tags": []
   },
   "source": [
    "As you can see, all columns are just consist of numbers, except 'title_filtered' column. Let's convert it too using CountVectorizer."
   ]
  },
  {
   "cell_type": "code",
   "execution_count": 38,
   "id": "2bf3d639",
   "metadata": {
    "execution": {
     "iopub.execute_input": "2023-08-11T11:13:24.240221Z",
     "iopub.status.busy": "2023-08-11T11:13:24.239823Z",
     "iopub.status.idle": "2023-08-11T11:13:24.345173Z",
     "shell.execute_reply": "2023-08-11T11:13:24.343842Z"
    },
    "papermill": {
     "duration": 0.136757,
     "end_time": "2023-08-11T11:13:24.347601",
     "exception": false,
     "start_time": "2023-08-11T11:13:24.210844",
     "status": "completed"
    },
    "tags": []
   },
   "outputs": [],
   "source": [
    "#CountVectorizer converts a collection of text documents to a matrix of token counts. \n",
    "\n",
    "vectorizer = CountVectorizer(min_df = 0.001) #Setting min_df = 0.001 means, that any word which can used under 0.001 of samples will be removed.\n",
    "#You can try, TfidfVectorizer too.(see, https://scikit-learn.org/stable/modules/generated/sklearn.feature_extraction.text.TfidfVectorizer.html)\n",
    "\n",
    "vectorized = vectorizer.fit_transform(reviews_new['title_filtered'])\n",
    "vectorized_df = pd.DataFrame(vectorized.toarray(), columns = vectorizer.get_feature_names_out())\n",
    "#We just created a pandas dataframe with all the worlds in 'title_filtered' column. Each word represents as a column."
   ]
  },
  {
   "cell_type": "code",
   "execution_count": 39,
   "id": "4c1a713b",
   "metadata": {
    "execution": {
     "iopub.execute_input": "2023-08-11T11:13:24.403023Z",
     "iopub.status.busy": "2023-08-11T11:13:24.402634Z",
     "iopub.status.idle": "2023-08-11T11:13:24.489997Z",
     "shell.execute_reply": "2023-08-11T11:13:24.488793Z"
    },
    "papermill": {
     "duration": 0.118122,
     "end_time": "2023-08-11T11:13:24.492559",
     "exception": false,
     "start_time": "2023-08-11T11:13:24.374437",
     "status": "completed"
    },
    "tags": []
   },
   "outputs": [],
   "source": [
    "reviews_new = reviews_new.reset_index(drop = True)\n",
    "review_final = pd.concat([reviews_new, vectorized_df], axis = 1) #Concatinating our 'main' dataframe with 'vectorized_df'.\n",
    "review_final = review_final.drop('title_filtered', axis = 1) #We don't need this column anymore"
   ]
  },
  {
   "cell_type": "code",
   "execution_count": 40,
   "id": "8c9b55a0",
   "metadata": {
    "execution": {
     "iopub.execute_input": "2023-08-11T11:13:24.550746Z",
     "iopub.status.busy": "2023-08-11T11:13:24.549082Z",
     "iopub.status.idle": "2023-08-11T11:13:24.754905Z",
     "shell.execute_reply": "2023-08-11T11:13:24.753629Z"
    },
    "papermill": {
     "duration": 0.237516,
     "end_time": "2023-08-11T11:13:24.757675",
     "exception": false,
     "start_time": "2023-08-11T11:13:24.520159",
     "status": "completed"
    },
    "tags": []
   },
   "outputs": [],
   "source": [
    "#We are going to use MinMaxScaler for feature scaling, because MultinomialNaiveBayes doesn't allow negative values.\n",
    "scaler = MinMaxScaler()\n",
    "X = scaler.fit_transform(review_final.drop('how_was_the_flight', axis = 1))\n",
    "y = review_final['how_was_the_flight']\n",
    "X_train, X_test, y_train, y_test = train_test_split(X,y, test_size = 0.2, random_state = 6)"
   ]
  },
  {
   "cell_type": "markdown",
   "id": "3ed00e79",
   "metadata": {
    "papermill": {
     "duration": 0.026442,
     "end_time": "2023-08-11T11:13:24.810896",
     "exception": false,
     "start_time": "2023-08-11T11:13:24.784454",
     "status": "completed"
    },
    "tags": []
   },
   "source": [
    "# Model Selection, Training and Evaluating."
   ]
  },
  {
   "cell_type": "markdown",
   "id": "a84a6631",
   "metadata": {
    "papermill": {
     "duration": 0.02714,
     "end_time": "2023-08-11T11:13:24.864823",
     "exception": false,
     "start_time": "2023-08-11T11:13:24.837683",
     "status": "completed"
    },
    "tags": []
   },
   "source": [
    "**We are going to using four different algorithms.**\n",
    "* Multinomial Naive Bayes - *This is very good when dealing with text data.*\n",
    "* Gradient Boosting Classifier - *GB can handle many type of data(spoiler alert: you'll see)*\n",
    "* Voting Classifier - *Using voting classifier we can combine different models.*"
   ]
  },
  {
   "cell_type": "code",
   "execution_count": 41,
   "id": "08a19309",
   "metadata": {
    "execution": {
     "iopub.execute_input": "2023-08-11T11:13:24.919734Z",
     "iopub.status.busy": "2023-08-11T11:13:24.919336Z",
     "iopub.status.idle": "2023-08-11T11:13:24.924352Z",
     "shell.execute_reply": "2023-08-11T11:13:24.923330Z"
    },
    "papermill": {
     "duration": 0.035275,
     "end_time": "2023-08-11T11:13:24.926593",
     "exception": false,
     "start_time": "2023-08-11T11:13:24.891318",
     "status": "completed"
    },
    "tags": []
   },
   "outputs": [],
   "source": [
    "mnb = MultinomialNB()\n",
    "gb_clf = GradientBoostingClassifier()\n",
    "vot_clf = VotingClassifier(estimators = [('mnb', mnb), ('gb_clf', gb_clf)], voting = 'soft') \n",
    "#Setting 'voting' parameter to soft will make the classifier to classify by probobalities."
   ]
  },
  {
   "cell_type": "markdown",
   "id": "f9b9df71",
   "metadata": {
    "papermill": {
     "duration": 0.026702,
     "end_time": "2023-08-11T11:13:24.980468",
     "exception": false,
     "start_time": "2023-08-11T11:13:24.953766",
     "status": "completed"
    },
    "tags": []
   },
   "source": [
    "Let's write a for loop for get accuracy score for each classifier automatically. "
   ]
  },
  {
   "cell_type": "code",
   "execution_count": 42,
   "id": "1c0abc42",
   "metadata": {
    "execution": {
     "iopub.execute_input": "2023-08-11T11:13:25.038103Z",
     "iopub.status.busy": "2023-08-11T11:13:25.037367Z",
     "iopub.status.idle": "2023-08-11T11:17:42.868536Z",
     "shell.execute_reply": "2023-08-11T11:17:42.867373Z"
    },
    "papermill": {
     "duration": 257.911042,
     "end_time": "2023-08-11T11:17:42.919102",
     "exception": false,
     "start_time": "2023-08-11T11:13:25.008060",
     "status": "completed"
    },
    "tags": []
   },
   "outputs": [
    {
     "name": "stdout",
     "output_type": "stream",
     "text": [
      "Accuracy of MultinomialNB:  0.7739837398373984\n",
      "Accuracy of GradientBoost:  0.821788617886179\n",
      "Accuracy of VotingClassifier:  0.8130081300813007\n"
     ]
    }
   ],
   "source": [
    "model_names = ['MultinomialNB', 'GradientBoost', 'VotingClassifier']\n",
    "models = [mnb, gb_clf, vot_clf]\n",
    "count = 0 \n",
    "for model in models:\n",
    "    cvalscore = cross_val_score(model, X_train,y_train, scoring = 'accuracy', cv = 5)\n",
    "    print('Accuracy of {}: '.format(model_names[count]), cvalscore.mean())\n",
    "    count = count + 1"
   ]
  },
  {
   "cell_type": "markdown",
   "id": "bd7af0ad",
   "metadata": {
    "papermill": {
     "duration": 0.02762,
     "end_time": "2023-08-11T11:17:42.990885",
     "exception": false,
     "start_time": "2023-08-11T11:17:42.963265",
     "status": "completed"
    },
    "tags": []
   },
   "source": [
    "What did I just said? Gradient Boost is very effective in many types of data. There are other libraries for Gradient Boosting too such as, XGBoost, CatBoost etc.\n",
    "\n",
    "For more info about how the Gradient Boost works, check this - *https://www.geeksforgeeks.org/ml-gradient-boosting/*"
   ]
  },
  {
   "cell_type": "code",
   "execution_count": 43,
   "id": "9356dde5",
   "metadata": {
    "execution": {
     "iopub.execute_input": "2023-08-11T11:17:43.047712Z",
     "iopub.status.busy": "2023-08-11T11:17:43.047350Z",
     "iopub.status.idle": "2023-08-11T11:18:16.878305Z",
     "shell.execute_reply": "2023-08-11T11:18:16.877234Z"
    },
    "papermill": {
     "duration": 33.888923,
     "end_time": "2023-08-11T11:18:16.907441",
     "exception": false,
     "start_time": "2023-08-11T11:17:43.018518",
     "status": "completed"
    },
    "tags": []
   },
   "outputs": [
    {
     "name": "stdout",
     "output_type": "stream",
     "text": [
      "Accuracy of GradientBoost:  0.8279150411790204\n"
     ]
    }
   ],
   "source": [
    "#Let's Gradient Boost fit to the data and then measure the accuracy score.\n",
    "gb_clf.fit(X_train, y_train)\n",
    "y_pred = gb_clf.predict(X_test)\n",
    "print('Accuracy of GradientBoost: ', accuracy_score(y_test, y_pred))"
   ]
  },
  {
   "cell_type": "markdown",
   "id": "3914df6c",
   "metadata": {
    "papermill": {
     "duration": 0.0278,
     "end_time": "2023-08-11T11:18:16.962939",
     "exception": false,
     "start_time": "2023-08-11T11:18:16.935139",
     "status": "completed"
    },
    "tags": []
   },
   "source": [
    "Accuracy, is a good and simple metric to understand how the model performs, but in some cases it can be insufficient. So, we're going to deep dive and we'll try to detect errors that made by Gradient Boost."
   ]
  },
  {
   "cell_type": "code",
   "execution_count": 44,
   "id": "134e6eee",
   "metadata": {
    "execution": {
     "iopub.execute_input": "2023-08-11T11:18:17.019738Z",
     "iopub.status.busy": "2023-08-11T11:18:17.019337Z",
     "iopub.status.idle": "2023-08-11T11:18:17.419517Z",
     "shell.execute_reply": "2023-08-11T11:18:17.418383Z"
    },
    "papermill": {
     "duration": 0.431464,
     "end_time": "2023-08-11T11:18:17.421903",
     "exception": false,
     "start_time": "2023-08-11T11:18:16.990439",
     "status": "completed"
    },
    "tags": []
   },
   "outputs": [
    {
     "data": {
      "text/plain": [
       "Text(0.5, 1.0, 'Confusion Matrix')"
      ]
     },
     "execution_count": 44,
     "metadata": {},
     "output_type": "execute_result"
    },
    {
     "data": {
      "image/png": "[encoded data removed]",
      "text/plain": [
       "<Figure size 640x480 with 2 Axes>"
      ]
     },
     "metadata": {},
     "output_type": "display_data"
    }
   ],
   "source": [
    "classes = ['Very Bad', 'Bad', 'Average', 'Good']\n",
    "scores = confusion_matrix(y_test, y_pred)\n",
    "sns.set_theme(palette = 'pastel')\n",
    "sns.heatmap(scores, annot = True, fmt = 'd', xticklabels = classes, yticklabels = classes)\n",
    "plt.xlabel('Expected')\n",
    "plt.ylabel('Predicted')\n",
    "plt.title('Confusion Matrix')"
   ]
  },
  {
   "cell_type": "markdown",
   "id": "55e2ebba",
   "metadata": {
    "papermill": {
     "duration": 0.028585,
     "end_time": "2023-08-11T11:18:17.479616",
     "exception": false,
     "start_time": "2023-08-11T11:18:17.451031",
     "status": "completed"
    },
    "tags": []
   },
   "source": [
    "While predicting 'Average' and 'Bad' columns our model actually done bad job. It's almost like flipping a coin.(50/50)"
   ]
  },
  {
   "cell_type": "code",
   "execution_count": 45,
   "id": "74f2c5b3",
   "metadata": {
    "execution": {
     "iopub.execute_input": "2023-08-11T11:18:17.537310Z",
     "iopub.status.busy": "2023-08-11T11:18:17.536894Z",
     "iopub.status.idle": "2023-08-11T11:18:17.542386Z",
     "shell.execute_reply": "2023-08-11T11:18:17.541335Z"
    },
    "papermill": {
     "duration": 0.037293,
     "end_time": "2023-08-11T11:18:17.544807",
     "exception": false,
     "start_time": "2023-08-11T11:18:17.507514",
     "status": "completed"
    },
    "tags": []
   },
   "outputs": [],
   "source": [
    "#Precision for 'Bad' reviews.\n",
    "precision_bad = 104/scores[1,:].sum()\n",
    "#Recall for 'Bad' reviews.\n",
    "recall_bad = 104/scores[:,1].sum()\n",
    "\n",
    "#Precision for 'Average' class\n",
    "precision_avg = 51/scores[2, :].sum()\n",
    "#Recall for 'Average' class\n",
    "recall_avg = 51/scores[:, 2].sum()"
   ]
  },
  {
   "cell_type": "code",
   "execution_count": 46,
   "id": "14c213f0",
   "metadata": {
    "execution": {
     "iopub.execute_input": "2023-08-11T11:18:17.605026Z",
     "iopub.status.busy": "2023-08-11T11:18:17.604307Z",
     "iopub.status.idle": "2023-08-11T11:18:17.616101Z",
     "shell.execute_reply": "2023-08-11T11:18:17.615163Z"
    },
    "papermill": {
     "duration": 0.044114,
     "end_time": "2023-08-11T11:18:17.618199",
     "exception": false,
     "start_time": "2023-08-11T11:18:17.574085",
     "status": "completed"
    },
    "tags": []
   },
   "outputs": [
    {
     "data": {
      "text/html": [
       "<div>\n",
       "<style scoped>\n",
       "    .dataframe tbody tr th:only-of-type {\n",
       "        vertical-align: middle;\n",
       "    }\n",
       "\n",
       "    .dataframe tbody tr th {\n",
       "        vertical-align: top;\n",
       "    }\n",
       "\n",
       "    .dataframe thead th {\n",
       "        text-align: right;\n",
       "    }\n",
       "</style>\n",
       "<table border=\"1\" class=\"dataframe\">\n",
       "  <thead>\n",
       "    <tr style=\"text-align: right;\">\n",
       "      <th></th>\n",
       "      <th>class</th>\n",
       "      <th>precision</th>\n",
       "      <th>recall</th>\n",
       "    </tr>\n",
       "  </thead>\n",
       "  <tbody>\n",
       "    <tr>\n",
       "      <th>0</th>\n",
       "      <td>Bad</td>\n",
       "      <td>0.398467</td>\n",
       "      <td>0.485981</td>\n",
       "    </tr>\n",
       "    <tr>\n",
       "      <th>1</th>\n",
       "      <td>Average</td>\n",
       "      <td>0.255000</td>\n",
       "      <td>0.531250</td>\n",
       "    </tr>\n",
       "  </tbody>\n",
       "</table>\n",
       "</div>"
      ],
      "text/plain": [
       "     class  precision    recall\n",
       "0      Bad   0.398467  0.485981\n",
       "1  Average   0.255000  0.531250"
      ]
     },
     "execution_count": 46,
     "metadata": {},
     "output_type": "execute_result"
    }
   ],
   "source": [
    "#Let's create a dataframe for easy visualizing\n",
    "prc_avg_dict = {\n",
    "    'class': ['Bad', 'Average'], 'precision': [precision_bad, precision_avg], 'recall': [recall_bad, recall_avg]\n",
    "}\n",
    "prc_avg = pd.DataFrame(data = prc_avg_dict)\n",
    "prc_avg"
   ]
  },
  {
   "cell_type": "markdown",
   "id": "b312cf7f",
   "metadata": {
    "papermill": {
     "duration": 0.028424,
     "end_time": "2023-08-11T11:18:17.675497",
     "exception": false,
     "start_time": "2023-08-11T11:18:17.647073",
     "status": "completed"
    },
    "tags": []
   },
   "source": [
    "The devostating truth! Even if the model looked pretty good with evaluation of accuracy score, it is really bad, especially for these two classes. But again, our goal was to detect 'Very Bad' reviews and delete them. When it comes to the 'Very Bad' reviews, our model did relatively pretty good job!"
   ]
  },
  {
   "cell_type": "code",
   "execution_count": 47,
   "id": "e183b754",
   "metadata": {
    "execution": {
     "iopub.execute_input": "2023-08-11T11:18:17.734214Z",
     "iopub.status.busy": "2023-08-11T11:18:17.733861Z",
     "iopub.status.idle": "2023-08-11T11:18:17.746590Z",
     "shell.execute_reply": "2023-08-11T11:18:17.745784Z"
    },
    "papermill": {
     "duration": 0.044498,
     "end_time": "2023-08-11T11:18:17.748548",
     "exception": false,
     "start_time": "2023-08-11T11:18:17.704050",
     "status": "completed"
    },
    "tags": []
   },
   "outputs": [
    {
     "data": {
      "text/html": [
       "<div>\n",
       "<style scoped>\n",
       "    .dataframe tbody tr th:only-of-type {\n",
       "        vertical-align: middle;\n",
       "    }\n",
       "\n",
       "    .dataframe tbody tr th {\n",
       "        vertical-align: top;\n",
       "    }\n",
       "\n",
       "    .dataframe thead th {\n",
       "        text-align: right;\n",
       "    }\n",
       "</style>\n",
       "<table border=\"1\" class=\"dataframe\">\n",
       "  <thead>\n",
       "    <tr style=\"text-align: right;\">\n",
       "      <th></th>\n",
       "      <th>class</th>\n",
       "      <th>precision</th>\n",
       "      <th>recall</th>\n",
       "    </tr>\n",
       "  </thead>\n",
       "  <tbody>\n",
       "    <tr>\n",
       "      <th>0</th>\n",
       "      <td>Bad</td>\n",
       "      <td>0.398467</td>\n",
       "      <td>0.485981</td>\n",
       "    </tr>\n",
       "    <tr>\n",
       "      <th>1</th>\n",
       "      <td>Average</td>\n",
       "      <td>0.255000</td>\n",
       "      <td>0.531250</td>\n",
       "    </tr>\n",
       "    <tr>\n",
       "      <th>2</th>\n",
       "      <td>Very Bad</td>\n",
       "      <td>0.949180</td>\n",
       "      <td>0.875283</td>\n",
       "    </tr>\n",
       "  </tbody>\n",
       "</table>\n",
       "</div>"
      ],
      "text/plain": [
       "      class  precision    recall\n",
       "0       Bad   0.398467  0.485981\n",
       "1   Average   0.255000  0.531250\n",
       "2  Very Bad   0.949180  0.875283"
      ]
     },
     "execution_count": 47,
     "metadata": {},
     "output_type": "execute_result"
    }
   ],
   "source": [
    "#Precision for 'Very Bad' reviews.\n",
    "precision_very_bad = 1158/scores[0,:].sum()\n",
    "#Recall for 'Very Bad' reviews.\n",
    "recall_very_bad = 1158/scores[:,0].sum()\n",
    "\n",
    "#Let's update the dataframe\n",
    "new_instance = {'class': ['Very Bad'], 'precision': [precision_very_bad], 'recall': [recall_very_bad]}\n",
    "new_instance_df = pd.DataFrame(data = new_instance)\n",
    "prc_avg_full = pd.concat([prc_avg, new_instance_df], axis = 0)\n",
    "prc_avg_full = prc_avg_full.reset_index(drop = True)\n",
    "prc_avg_full"
   ]
  },
  {
   "cell_type": "markdown",
   "id": "0c5e9de7",
   "metadata": {
    "papermill": {
     "duration": 0.028298,
     "end_time": "2023-08-11T11:18:17.805947",
     "exception": false,
     "start_time": "2023-08-11T11:18:17.777649",
     "status": "completed"
    },
    "tags": []
   },
   "source": [
    "0.94 Precision and 0.87 Recall is pretty good! Maybe we can pass the exam. Take this 'exam' and try to beat me(You'll probably beat me I'm a rookie!)"
   ]
  },
  {
   "cell_type": "markdown",
   "id": "d52e631c",
   "metadata": {
    "papermill": {
     "duration": 0.028265,
     "end_time": "2023-08-11T11:18:17.862758",
     "exception": false,
     "start_time": "2023-08-11T11:18:17.834493",
     "status": "completed"
    },
    "tags": []
   },
   "source": [
    "# THE END"
   ]
  },
  {
   "cell_type": "markdown",
   "id": "37a73e98",
   "metadata": {
    "papermill": {
     "duration": 0.028534,
     "end_time": "2023-08-11T11:18:17.919860",
     "exception": false,
     "start_time": "2023-08-11T11:18:17.891326",
     "status": "completed"
    },
    "tags": []
   },
   "source": [
    "**If you like this notebook, please upvote for other people to see. Thank you everyone who read the entire notebook!**"
   ]
  }
 ],
 "metadata": {
  "kernelspec": {
   "display_name": "Python 3",
   "language": "python",
   "name": "python3"
  },
  "language_info": {
   "codemirror_mode": {
    "name": "ipython",
    "version": 3
   },
   "file_extension": ".py",
   "mimetype": "text/x-python",
   "name": "python",
   "nbconvert_exporter": "python",
   "pygments_lexer": "ipython3",
   "version": "3.10.12"
  },
  "papermill": {
   "default_parameters": {},
   "duration": 337.309747,
   "end_time": "2023-08-11T11:18:19.373969",
   "environment_variables": {},
   "exception": null,
   "input_path": "__notebook__.ipynb",
   "output_path": "__notebook__.ipynb",
   "parameters": {},
   "start_time": "2023-08-11T11:12:42.064222",
   "version": "2.4.0"
  },
  "widgets": {
   "application/vnd.jupyter.widget-state+json": {
    "state": {
     "0318d09f69864c52a035dd93d96299d1": {
      "model_module": "@jupyter-widgets/controls",
      "model_module_version": "1.5.0",
      "model_name": "SliderStyleModel",
      "state": {
       "_model_module": "@jupyter-widgets/controls",
       "_model_module_version": "1.5.0",
       "_model_name": "SliderStyleModel",
       "_view_count": null,
       "_view_module": "@jupyter-widgets/base",
       "_view_module_version": "1.2.0",
       "_view_name": "StyleView",
       "description_width": "",
       "handle_color": null
      }
     },
     "0e341cc1488b4bbe83af4c5fa161718a": {
      "model_module": "@jupyter-widgets/controls",
      "model_module_version": "1.5.0",
      "model_name": "CheckboxModel",
      "state": {
       "_dom_classes": [],
       "_model_module": "@jupyter-widgets/controls",
       "_model_module_version": "1.5.0",
       "_model_name": "CheckboxModel",
       "_view_count": null,
       "_view_module": "@jupyter-widgets/controls",
       "_view_module_version": "1.5.0",
       "_view_name": "CheckboxView",
       "description": "reverse",
       "description_tooltip": null,
       "disabled": false,
       "indent": true,
       "layout": "IPY_MODEL_32d4fbd0ff094452aa1dd1f0139f8a26",
       "style": "IPY_MODEL_1c986db6f4fb45a191b0b51ec7354ba4",
       "value": false
      }
     },
     "109429b14908458bb50fd2f5a1d637c7": {
      "model_module": "@jupyter-widgets/base",
      "model_module_version": "1.2.0",
      "model_name": "LayoutModel",
      "state": {
       "_model_module": "@jupyter-widgets/base",
       "_model_module_version": "1.2.0",
       "_model_name": "LayoutModel",
       "_view_count": null,
       "_view_module": "@jupyter-widgets/base",
       "_view_module_version": "1.2.0",
       "_view_name": "LayoutView",
       "align_content": null,
       "align_items": null,
       "align_self": null,
       "border": null,
       "bottom": null,
       "display": null,
       "flex": null,
       "flex_flow": null,
       "grid_area": null,
       "grid_auto_columns": null,
       "grid_auto_flow": null,
       "grid_auto_rows": null,
       "grid_column": null,
       "grid_gap": null,
       "grid_row": null,
       "grid_template_areas": null,
       "grid_template_columns": null,
       "grid_template_rows": null,
       "height": null,
       "justify_content": null,
       "justify_items": null,
       "left": null,
       "margin": null,
       "max_height": null,
       "max_width": null,
       "min_height": null,
       "min_width": null,
       "object_fit": null,
       "object_position": null,
       "order": null,
       "overflow": null,
       "overflow_x": null,
       "overflow_y": null,
       "padding": null,
       "right": null,
       "top": null,
       "visibility": null,
       "width": null
      }
     },
     "13e90d43d75545f28f602e136bf6c41d": {
      "model_module": "@jupyter-widgets/controls",
      "model_module_version": "1.5.0",
      "model_name": "FloatSliderModel",
      "state": {
       "_dom_classes": [],
       "_model_module": "@jupyter-widgets/controls",
       "_model_module_version": "1.5.0",
       "_model_name": "FloatSliderModel",
       "_view_count": null,
       "_view_module": "@jupyter-widgets/controls",
       "_view_module_version": "1.5.0",
       "_view_name": "FloatSliderView",
       "continuous_update": true,
       "description": "rot",
       "description_tooltip": null,
       "disabled": false,
       "layout": "IPY_MODEL_6cb2c95fc3284ae0bcdc65f51b2991f5",
       "max": 1.0,
       "min": -1.0,
       "orientation": "horizontal",
       "readout": true,
       "readout_format": ".2f",
       "step": 0.1,
       "style": "IPY_MODEL_e85aa860b41a4eeead15e348f2ce867c",
       "value": 0.4
      }
     },
     "1c986db6f4fb45a191b0b51ec7354ba4": {
      "model_module": "@jupyter-widgets/controls",
      "model_module_version": "1.5.0",
      "model_name": "DescriptionStyleModel",
      "state": {
       "_model_module": "@jupyter-widgets/controls",
       "_model_module_version": "1.5.0",
       "_model_name": "DescriptionStyleModel",
       "_view_count": null,
       "_view_module": "@jupyter-widgets/base",
       "_view_module_version": "1.2.0",
       "_view_name": "StyleView",
       "description_width": ""
      }
     },
     "27f1c35a098041a9a82fdf139864388a": {
      "model_module": "@jupyter-widgets/controls",
      "model_module_version": "1.5.0",
      "model_name": "FloatSliderModel",
      "state": {
       "_dom_classes": [],
       "_model_module": "@jupyter-widgets/controls",
       "_model_module_version": "1.5.0",
       "_model_name": "FloatSliderModel",
       "_view_count": null,
       "_view_module": "@jupyter-widgets/controls",
       "_view_module_version": "1.5.0",
       "_view_name": "FloatSliderView",
       "continuous_update": true,
       "description": "hue",
       "description_tooltip": null,
       "disabled": false,
       "layout": "IPY_MODEL_109429b14908458bb50fd2f5a1d637c7",
       "max": 1.0,
       "min": 0.0,
       "orientation": "horizontal",
       "readout": true,
       "readout_format": ".2f",
       "step": 0.1,
       "style": "IPY_MODEL_0318d09f69864c52a035dd93d96299d1",
       "value": 0.8
      }
     },
     "2be705aa4ca54e55830bb386349ac624": {
      "model_module": "@jupyter-widgets/base",
      "model_module_version": "1.2.0",
      "model_name": "LayoutModel",
      "state": {
       "_model_module": "@jupyter-widgets/base",
       "_model_module_version": "1.2.0",
       "_model_name": "LayoutModel",
       "_view_count": null,
       "_view_module": "@jupyter-widgets/base",
       "_view_module_version": "1.2.0",
       "_view_name": "LayoutView",
       "align_content": null,
       "align_items": null,
       "align_self": null,
       "border": null,
       "bottom": null,
       "display": null,
       "flex": null,
       "flex_flow": null,
       "grid_area": null,
       "grid_auto_columns": null,
       "grid_auto_flow": null,
       "grid_auto_rows": null,
       "grid_column": null,
       "grid_gap": null,
       "grid_row": null,
       "grid_template_areas": null,
       "grid_template_columns": null,
       "grid_template_rows": null,
       "height": null,
       "justify_content": null,
       "justify_items": null,
       "left": null,
       "margin": null,
       "max_height": null,
       "max_width": null,
       "min_height": null,
       "min_width": null,
       "object_fit": null,
       "object_position": null,
       "order": null,
       "overflow": null,
       "overflow_x": null,
       "overflow_y": null,
       "padding": null,
       "right": null,
       "top": null,
       "visibility": null,
       "width": null
      }
     },
     "32d4fbd0ff094452aa1dd1f0139f8a26": {
      "model_module": "@jupyter-widgets/base",
      "model_module_version": "1.2.0",
      "model_name": "LayoutModel",
      "state": {
       "_model_module": "@jupyter-widgets/base",
       "_model_module_version": "1.2.0",
       "_model_name": "LayoutModel",
       "_view_count": null,
       "_view_module": "@jupyter-widgets/base",
       "_view_module_version": "1.2.0",
       "_view_name": "LayoutView",
       "align_content": null,
       "align_items": null,
       "align_self": null,
       "border": null,
       "bottom": null,
       "display": null,
       "flex": null,
       "flex_flow": null,
       "grid_area": null,
       "grid_auto_columns": null,
       "grid_auto_flow": null,
       "grid_auto_rows": null,
       "grid_column": null,
       "grid_gap": null,
       "grid_row": null,
       "grid_template_areas": null,
       "grid_template_columns": null,
       "grid_template_rows": null,
       "height": null,
       "justify_content": null,
       "justify_items": null,
       "left": null,
       "margin": null,
       "max_height": null,
       "max_width": null,
       "min_height": null,
       "min_width": null,
       "object_fit": null,
       "object_position": null,
       "order": null,
       "overflow": null,
       "overflow_x": null,
       "overflow_y": null,
       "padding": null,
       "right": null,
       "top": null,
       "visibility": null,
       "width": null
      }
     },
     "36adf37426954080a6c0dc2b72424a7f": {
      "model_module": "@jupyter-widgets/base",
      "model_module_version": "1.2.0",
      "model_name": "LayoutModel",
      "state": {
       "_model_module": "@jupyter-widgets/base",
       "_model_module_version": "1.2.0",
       "_model_name": "LayoutModel",
       "_view_count": null,
       "_view_module": "@jupyter-widgets/base",
       "_view_module_version": "1.2.0",
       "_view_name": "LayoutView",
       "align_content": null,
       "align_items": null,
       "align_self": null,
       "border": null,
       "bottom": null,
       "display": null,
       "flex": null,
       "flex_flow": null,
       "grid_area": null,
       "grid_auto_columns": null,
       "grid_auto_flow": null,
       "grid_auto_rows": null,
       "grid_column": null,
       "grid_gap": null,
       "grid_row": null,
       "grid_template_areas": null,
       "grid_template_columns": null,
       "grid_template_rows": null,
       "height": null,
       "justify_content": null,
       "justify_items": null,
       "left": null,
       "margin": null,
       "max_height": null,
       "max_width": null,
       "min_height": null,
       "min_width": null,
       "object_fit": null,
       "object_position": null,
       "order": null,
       "overflow": null,
       "overflow_x": null,
       "overflow_y": null,
       "padding": null,
       "right": null,
       "top": null,
       "visibility": null,
       "width": null
      }
     },
     "5757471c5ebf4c2d86cf843e332380cf": {
      "model_module": "@jupyter-widgets/controls",
      "model_module_version": "1.5.0",
      "model_name": "SliderStyleModel",
      "state": {
       "_model_module": "@jupyter-widgets/controls",
       "_model_module_version": "1.5.0",
       "_model_name": "SliderStyleModel",
       "_view_count": null,
       "_view_module": "@jupyter-widgets/base",
       "_view_module_version": "1.2.0",
       "_view_name": "StyleView",
       "description_width": "",
       "handle_color": null
      }
     },
     "62a43bf3369f4b87b2fa1f27f6c01282": {
      "model_module": "@jupyter-widgets/controls",
      "model_module_version": "1.5.0",
      "model_name": "FloatSliderModel",
      "state": {
       "_dom_classes": [],
       "_model_module": "@jupyter-widgets/controls",
       "_model_module_version": "1.5.0",
       "_model_name": "FloatSliderModel",
       "_view_count": null,
       "_view_module": "@jupyter-widgets/controls",
       "_view_module_version": "1.5.0",
       "_view_name": "FloatSliderView",
       "continuous_update": true,
       "description": "dark",
       "description_tooltip": null,
       "disabled": false,
       "layout": "IPY_MODEL_2be705aa4ca54e55830bb386349ac624",
       "max": 1.0,
       "min": 0.0,
       "orientation": "horizontal",
       "readout": true,
       "readout_format": ".2f",
       "step": 0.1,
       "style": "IPY_MODEL_5757471c5ebf4c2d86cf843e332380cf",
       "value": 0.15
      }
     },
     "6cb2c95fc3284ae0bcdc65f51b2991f5": {
      "model_module": "@jupyter-widgets/base",
      "model_module_version": "1.2.0",
      "model_name": "LayoutModel",
      "state": {
       "_model_module": "@jupyter-widgets/base",
       "_model_module_version": "1.2.0",
       "_model_name": "LayoutModel",
       "_view_count": null,
       "_view_module": "@jupyter-widgets/base",
       "_view_module_version": "1.2.0",
       "_view_name": "LayoutView",
       "align_content": null,
       "align_items": null,
       "align_self": null,
       "border": null,
       "bottom": null,
       "display": null,
       "flex": null,
       "flex_flow": null,
       "grid_area": null,
       "grid_auto_columns": null,
       "grid_auto_flow": null,
       "grid_auto_rows": null,
       "grid_column": null,
       "grid_gap": null,
       "grid_row": null,
       "grid_template_areas": null,
       "grid_template_columns": null,
       "grid_template_rows": null,
       "height": null,
       "justify_content": null,
       "justify_items": null,
       "left": null,
       "margin": null,
       "max_height": null,
       "max_width": null,
       "min_height": null,
       "min_width": null,
       "object_fit": null,
       "object_position": null,
       "order": null,
       "overflow": null,
       "overflow_x": null,
       "overflow_y": null,
       "padding": null,
       "right": null,
       "top": null,
       "visibility": null,
       "width": null
      }
     },
     "800f975363674109aa6f339dda644f22": {
      "model_module": "@jupyter-widgets/controls",
      "model_module_version": "1.5.0",
      "model_name": "IntSliderModel",
      "state": {
       "_dom_classes": [],
       "_model_module": "@jupyter-widgets/controls",
       "_model_module_version": "1.5.0",
       "_model_name": "IntSliderModel",
       "_view_count": null,
       "_view_module": "@jupyter-widgets/controls",
       "_view_module_version": "1.5.0",
       "_view_name": "IntSliderView",
       "continuous_update": true,
       "description": "n_colors",
       "description_tooltip": null,
       "disabled": false,
       "layout": "IPY_MODEL_f0aa3c43c7f943a59363e0498adf7e4a",
       "max": 16,
       "min": 2,
       "orientation": "horizontal",
       "readout": true,
       "readout_format": "d",
       "step": 1,
       "style": "IPY_MODEL_937e30d2347d49cf83704f2b67021fcb",
       "value": 9
      }
     },
     "937e30d2347d49cf83704f2b67021fcb": {
      "model_module": "@jupyter-widgets/controls",
      "model_module_version": "1.5.0",
      "model_name": "SliderStyleModel",
      "state": {
       "_model_module": "@jupyter-widgets/controls",
       "_model_module_version": "1.5.0",
       "_model_name": "SliderStyleModel",
       "_view_count": null,
       "_view_module": "@jupyter-widgets/base",
       "_view_module_version": "1.2.0",
       "_view_name": "StyleView",
       "description_width": "",
       "handle_color": null
      }
     },
     "9921d27094494dae999443554b1458f5": {
      "model_module": "@jupyter-widgets/base",
      "model_module_version": "1.2.0",
      "model_name": "LayoutModel",
      "state": {
       "_model_module": "@jupyter-widgets/base",
       "_model_module_version": "1.2.0",
       "_model_name": "LayoutModel",
       "_view_count": null,
       "_view_module": "@jupyter-widgets/base",
       "_view_module_version": "1.2.0",
       "_view_name": "LayoutView",
       "align_content": null,
       "align_items": null,
       "align_self": null,
       "border": null,
       "bottom": null,
       "display": null,
       "flex": null,
       "flex_flow": null,
       "grid_area": null,
       "grid_auto_columns": null,
       "grid_auto_flow": null,
       "grid_auto_rows": null,
       "grid_column": null,
       "grid_gap": null,
       "grid_row": null,
       "grid_template_areas": null,
       "grid_template_columns": null,
       "grid_template_rows": null,
       "height": null,
       "justify_content": null,
       "justify_items": null,
       "left": null,
       "margin": null,
       "max_height": null,
       "max_width": null,
       "min_height": null,
       "min_width": null,
       "object_fit": null,
       "object_position": null,
       "order": null,
       "overflow": null,
       "overflow_x": null,
       "overflow_y": null,
       "padding": null,
       "right": null,
       "top": null,
       "visibility": null,
       "width": null
      }
     },
     "9f47ced486e14854b3b8a5257d95fa5d": {
      "model_module": "@jupyter-widgets/controls",
      "model_module_version": "1.5.0",
      "model_name": "SliderStyleModel",
      "state": {
       "_model_module": "@jupyter-widgets/controls",
       "_model_module_version": "1.5.0",
       "_model_name": "SliderStyleModel",
       "_view_count": null,
       "_view_module": "@jupyter-widgets/base",
       "_view_module_version": "1.2.0",
       "_view_name": "StyleView",
       "description_width": "",
       "handle_color": null
      }
     },
     "a2c52e3aed0344e1b443019575e10750": {
      "model_module": "@jupyter-widgets/base",
      "model_module_version": "1.2.0",
      "model_name": "LayoutModel",
      "state": {
       "_model_module": "@jupyter-widgets/base",
       "_model_module_version": "1.2.0",
       "_model_name": "LayoutModel",
       "_view_count": null,
       "_view_module": "@jupyter-widgets/base",
       "_view_module_version": "1.2.0",
       "_view_name": "LayoutView",
       "align_content": null,
       "align_items": null,
       "align_self": null,
       "border": null,
       "bottom": null,
       "display": null,
       "flex": null,
       "flex_flow": null,
       "grid_area": null,
       "grid_auto_columns": null,
       "grid_auto_flow": null,
       "grid_auto_rows": null,
       "grid_column": null,
       "grid_gap": null,
       "grid_row": null,
       "grid_template_areas": null,
       "grid_template_columns": null,
       "grid_template_rows": null,
       "height": null,
       "justify_content": null,
       "justify_items": null,
       "left": null,
       "margin": null,
       "max_height": null,
       "max_width": null,
       "min_height": null,
       "min_width": null,
       "object_fit": null,
       "object_position": null,
       "order": null,
       "overflow": null,
       "overflow_x": null,
       "overflow_y": null,
       "padding": null,
       "right": null,
       "top": null,
       "visibility": null,
       "width": null
      }
     },
     "a6c65589957c4a36b18fef3399a4c8f7": {
      "model_module": "@jupyter-widgets/controls",
      "model_module_version": "1.5.0",
      "model_name": "FloatSliderModel",
      "state": {
       "_dom_classes": [],
       "_model_module": "@jupyter-widgets/controls",
       "_model_module_version": "1.5.0",
       "_model_name": "FloatSliderModel",
       "_view_count": null,
       "_view_module": "@jupyter-widgets/controls",
       "_view_module_version": "1.5.0",
       "_view_name": "FloatSliderView",
       "continuous_update": true,
       "description": "start",
       "description_tooltip": null,
       "disabled": false,
       "layout": "IPY_MODEL_a2c52e3aed0344e1b443019575e10750",
       "max": 3.0,
       "min": 0.0,
       "orientation": "horizontal",
       "readout": true,
       "readout_format": ".2f",
       "step": 0.1,
       "style": "IPY_MODEL_dee04effbd124e3180ed423a74779bd1",
       "value": 0.0
      }
     },
     "b4bd2dcdd1dd4a6b8eb0365b47495252": {
      "model_module": "@jupyter-widgets/output",
      "model_module_version": "1.0.0",
      "model_name": "OutputModel",
      "state": {
       "_dom_classes": [],
       "_model_module": "@jupyter-widgets/output",
       "_model_module_version": "1.0.0",
       "_model_name": "OutputModel",
       "_view_count": null,
       "_view_module": "@jupyter-widgets/output",
       "_view_module_version": "1.0.0",
       "_view_name": "OutputView",
       "layout": "IPY_MODEL_36adf37426954080a6c0dc2b72424a7f",
       "msg_id": "",
       "outputs": [
        {
         "data": {
          "image/png": "iVBORw0KGgoAAAANSUhEUgAAApMAAABNCAYAAAD6ve+LAAAAOXRFWHRTb2Z0d2FyZQBNYXRwbG90bGliIHZlcnNpb24zLjcuMiwgaHR0cHM6Ly9tYXRwbG90bGliLm9yZy8pXeV/AAAACXBIWXMAAA9hAAAPYQGoP6dpAAAEAElEQVR4nO3cTW4bORAGUCoI2geYseYU3vmgs5lj5Cbe+Rg6gQS7Oas4MlRN0tW0gwDvrQQ1yaom9fPBMHSotdYCAAAJ3353AwAA/LmESQAA0oRJAADShEkAANKESQAA0oRJAADShEkAANK+jwx6fHwsl8ul3N/ff3Y/AAD8ZqfTqSzLUp6enrpjh8Lk+Xwury8vZb2ccx0N/ix6HR+4Q2Py7J9vD9arvQETasxaZ/g8dtT48BJf8Rv7nRJzXn75Vbozv+LYJp9DXGNqiXbdSQ00Z+y4n/GpNXw4sZV+BxPeIJ/1Eb99eXvScC+JpttTxhac9XlQg0czxK+HCfvdr7z9zK734pwOm/s9LQrt+J6ppZTD6/B37lCYPB6PZb2cy4///o1fGVfP1XX7+rumgnXe5kbXrp8Larxdv+4l6nUNenmbsFGvNbd5H0GJwbnvxzXWae3FdYlWn50a8V4Mjuvs6a/7vZ1agvtovb621vnVX3BtvT2P1hrd68G+RK22rnXnroO97KnRu9/GufXmrsE+z9irWb205vZ6WSfcR2uNrXXW0XMbrRF8IIyeW9RLND5+K9eb+q1e42uDZz6rRhnb09Y6axR86m1/rf2+7iWs0T2P230Zq3+7F725YS/Nfbyeu3ZrbfX6FTU+Ordef2n8HFfyNcL7iNZ4V+O2h1prOS+ncjweb65F/M8kAABpwiQAAGnCJAAAacIkAABpwiQAAGnCJAAAacIkAABpwiQAAGnCJAAAacIkAABpwiQAAGnCJAAAacIkAABpwiQAAGnCJAAAacIkAABpwiQAAGnCJAAAacIkAABpwiQAAGnCJAAAacIkAABpwiQAAGnCJAAAacIkAABpwiQAAGnCJAAAacIkAABpwiQAAGnCJAAAacIkAABpwiQAAGnCJAAAacIkAABpwiQAAGnCJAAAacIkAABpwiQAAGnCJAAAacIkAABpwiQAAGnCJAAAacIkAABpwiQAAGnCJAAAacIkAABpwiQAAGnCJAAAacIkAABpwiQAAGnCJAAAacIkAABpwiQAAGnCJAAAacIkAABph1pr7Q16eHgory8v5Z+//8pV6Vb4OWx44A6NybvWHVuv9gZMqDFrneHz2FHjw0v0X64Tiuy6PDg5v0p35lcc2+RziGtMLdGuO6mB5owd9zM+tYYPJ7bS72DCG+SzPuK3L29PGu4l0XR7ytiCsz4PavBohvj1MGG/+5W3n9n1XpzTYXO/p0WhHd8ztZRyeC3L3VKen5+747+PLHp3d1cuh0P5ttylGwMA4M9wOp3KsixDY4f+MgkAABH/MwkAQJowCQBAmjAJAECaMAkAQJowCQBAmjAJAECaMAkAQJowCQBA2v/A/n1fMWmnAAAAAABJRU5ErkJggg==",
          "text/plain": "<Figure size 825x75 with 1 Axes>"
         },
         "metadata": {},
         "output_type": "display_data"
        }
       ]
      }
     },
     "b50f8995096b4a0b9875330d68694d4a": {
      "model_module": "@jupyter-widgets/controls",
      "model_module_version": "1.5.0",
      "model_name": "FloatSliderModel",
      "state": {
       "_dom_classes": [],
       "_model_module": "@jupyter-widgets/controls",
       "_model_module_version": "1.5.0",
       "_model_name": "FloatSliderModel",
       "_view_count": null,
       "_view_module": "@jupyter-widgets/controls",
       "_view_module_version": "1.5.0",
       "_view_name": "FloatSliderView",
       "continuous_update": true,
       "description": "gamma",
       "description_tooltip": null,
       "disabled": false,
       "layout": "IPY_MODEL_d1f651b3092648db8c46fae96be114f1",
       "max": 5.0,
       "min": 0.0,
       "orientation": "horizontal",
       "readout": true,
       "readout_format": ".2f",
       "step": 0.1,
       "style": "IPY_MODEL_9f47ced486e14854b3b8a5257d95fa5d",
       "value": 1.0
      }
     },
     "bf81d981494544d0bce92c66bf63d820": {
      "model_module": "@jupyter-widgets/controls",
      "model_module_version": "1.5.0",
      "model_name": "VBoxModel",
      "state": {
       "_dom_classes": [
        "widget-interact"
       ],
       "_model_module": "@jupyter-widgets/controls",
       "_model_module_version": "1.5.0",
       "_model_name": "VBoxModel",
       "_view_count": null,
       "_view_module": "@jupyter-widgets/controls",
       "_view_module_version": "1.5.0",
       "_view_name": "VBoxView",
       "box_style": "",
       "children": [
        "IPY_MODEL_800f975363674109aa6f339dda644f22",
        "IPY_MODEL_a6c65589957c4a36b18fef3399a4c8f7",
        "IPY_MODEL_13e90d43d75545f28f602e136bf6c41d",
        "IPY_MODEL_b50f8995096b4a0b9875330d68694d4a",
        "IPY_MODEL_27f1c35a098041a9a82fdf139864388a",
        "IPY_MODEL_e4a27a72d0db4591b293f1973fa4ed3d",
        "IPY_MODEL_62a43bf3369f4b87b2fa1f27f6c01282",
        "IPY_MODEL_0e341cc1488b4bbe83af4c5fa161718a",
        "IPY_MODEL_b4bd2dcdd1dd4a6b8eb0365b47495252"
       ],
       "layout": "IPY_MODEL_9921d27094494dae999443554b1458f5"
      }
     },
     "d1f651b3092648db8c46fae96be114f1": {
      "model_module": "@jupyter-widgets/base",
      "model_module_version": "1.2.0",
      "model_name": "LayoutModel",
      "state": {
       "_model_module": "@jupyter-widgets/base",
       "_model_module_version": "1.2.0",
       "_model_name": "LayoutModel",
       "_view_count": null,
       "_view_module": "@jupyter-widgets/base",
       "_view_module_version": "1.2.0",
       "_view_name": "LayoutView",
       "align_content": null,
       "align_items": null,
       "align_self": null,
       "border": null,
       "bottom": null,
       "display": null,
       "flex": null,
       "flex_flow": null,
       "grid_area": null,
       "grid_auto_columns": null,
       "grid_auto_flow": null,
       "grid_auto_rows": null,
       "grid_column": null,
       "grid_gap": null,
       "grid_row": null,
       "grid_template_areas": null,
       "grid_template_columns": null,
       "grid_template_rows": null,
       "height": null,
       "justify_content": null,
       "justify_items": null,
       "left": null,
       "margin": null,
       "max_height": null,
       "max_width": null,
       "min_height": null,
       "min_width": null,
       "object_fit": null,
       "object_position": null,
       "order": null,
       "overflow": null,
       "overflow_x": null,
       "overflow_y": null,
       "padding": null,
       "right": null,
       "top": null,
       "visibility": null,
       "width": null
      }
     },
     "dee04effbd124e3180ed423a74779bd1": {
      "model_module": "@jupyter-widgets/controls",
      "model_module_version": "1.5.0",
      "model_name": "SliderStyleModel",
      "state": {
       "_model_module": "@jupyter-widgets/controls",
       "_model_module_version": "1.5.0",
       "_model_name": "SliderStyleModel",
       "_view_count": null,
       "_view_module": "@jupyter-widgets/base",
       "_view_module_version": "1.2.0",
       "_view_name": "StyleView",
       "description_width": "",
       "handle_color": null
      }
     },
     "e4a27a72d0db4591b293f1973fa4ed3d": {
      "model_module": "@jupyter-widgets/controls",
      "model_module_version": "1.5.0",
      "model_name": "FloatSliderModel",
      "state": {
       "_dom_classes": [],
       "_model_module": "@jupyter-widgets/controls",
       "_model_module_version": "1.5.0",
       "_model_name": "FloatSliderModel",
       "_view_count": null,
       "_view_module": "@jupyter-widgets/controls",
       "_view_module_version": "1.5.0",
       "_view_name": "FloatSliderView",
       "continuous_update": true,
       "description": "light",
       "description_tooltip": null,
       "disabled": false,
       "layout": "IPY_MODEL_ec721a3813f6489a8e1a2e012d111122",
       "max": 1.0,
       "min": 0.0,
       "orientation": "horizontal",
       "readout": true,
       "readout_format": ".2f",
       "step": 0.1,
       "style": "IPY_MODEL_e647380a67964f40b90c09995a808c45",
       "value": 0.85
      }
     },
     "e647380a67964f40b90c09995a808c45": {
      "model_module": "@jupyter-widgets/controls",
      "model_module_version": "1.5.0",
      "model_name": "SliderStyleModel",
      "state": {
       "_model_module": "@jupyter-widgets/controls",
       "_model_module_version": "1.5.0",
       "_model_name": "SliderStyleModel",
       "_view_count": null,
       "_view_module": "@jupyter-widgets/base",
       "_view_module_version": "1.2.0",
       "_view_name": "StyleView",
       "description_width": "",
       "handle_color": null
      }
     },
     "e85aa860b41a4eeead15e348f2ce867c": {
      "model_module": "@jupyter-widgets/controls",
      "model_module_version": "1.5.0",
      "model_name": "SliderStyleModel",
      "state": {
       "_model_module": "@jupyter-widgets/controls",
       "_model_module_version": "1.5.0",
       "_model_name": "SliderStyleModel",
       "_view_count": null,
       "_view_module": "@jupyter-widgets/base",
       "_view_module_version": "1.2.0",
       "_view_name": "StyleView",
       "description_width": "",
       "handle_color": null
      }
     },
     "ec721a3813f6489a8e1a2e012d111122": {
      "model_module": "@jupyter-widgets/base",
      "model_module_version": "1.2.0",
      "model_name": "LayoutModel",
      "state": {
       "_model_module": "@jupyter-widgets/base",
       "_model_module_version": "1.2.0",
       "_model_name": "LayoutModel",
       "_view_count": null,
       "_view_module": "@jupyter-widgets/base",
       "_view_module_version": "1.2.0",
       "_view_name": "LayoutView",
       "align_content": null,
       "align_items": null,
       "align_self": null,
       "border": null,
       "bottom": null,
       "display": null,
       "flex": null,
       "flex_flow": null,
       "grid_area": null,
       "grid_auto_columns": null,
       "grid_auto_flow": null,
       "grid_auto_rows": null,
       "grid_column": null,
       "grid_gap": null,
       "grid_row": null,
       "grid_template_areas": null,
       "grid_template_columns": null,
       "grid_template_rows": null,
       "height": null,
       "justify_content": null,
       "justify_items": null,
       "left": null,
       "margin": null,
       "max_height": null,
       "max_width": null,
       "min_height": null,
       "min_width": null,
       "object_fit": null,
       "object_position": null,
       "order": null,
       "overflow": null,
       "overflow_x": null,
       "overflow_y": null,
       "padding": null,
       "right": null,
       "top": null,
       "visibility": null,
       "width": null
      }
     },
     "f0aa3c43c7f943a59363e0498adf7e4a": {
      "model_module": "@jupyter-widgets/base",
      "model_module_version": "1.2.0",
      "model_name": "LayoutModel",
      "state": {
       "_model_module": "@jupyter-widgets/base",
       "_model_module_version": "1.2.0",
       "_model_name": "LayoutModel",
       "_view_count": null,
       "_view_module": "@jupyter-widgets/base",
       "_view_module_version": "1.2.0",
       "_view_name": "LayoutView",
       "align_content": null,
       "align_items": null,
       "align_self": null,
       "border": null,
       "bottom": null,
       "display": null,
       "flex": null,
       "flex_flow": null,
       "grid_area": null,
       "grid_auto_columns": null,
       "grid_auto_flow": null,
       "grid_auto_rows": null,
       "grid_column": null,
       "grid_gap": null,
       "grid_row": null,
       "grid_template_areas": null,
       "grid_template_columns": null,
       "grid_template_rows": null,
       "height": null,
       "justify_content": null,
       "justify_items": null,
       "left": null,
       "margin": null,
       "max_height": null,
       "max_width": null,
       "min_height": null,
       "min_width": null,
       "object_fit": null,
       "object_position": null,
       "order": null,
       "overflow": null,
       "overflow_x": null,
       "overflow_y": null,
       "padding": null,
       "right": null,
       "top": null,
       "visibility": null,
       "width": null
      }
     }
    },
    "version_major": 2,
    "version_minor": 0
   }
  }
 },
 "nbformat": 4,
 "nbformat_minor": 5
}
